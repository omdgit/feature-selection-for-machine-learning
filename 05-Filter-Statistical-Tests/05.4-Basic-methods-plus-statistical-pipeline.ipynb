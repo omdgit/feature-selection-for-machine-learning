{
 "cells": [
  {
   "cell_type": "markdown",
   "metadata": {},
   "source": [
    "## Filter Methods - Basics - Plus - Filter statistical tests\n",
    "\n",
    "### Putting it all together"
   ]
  },
  {
   "cell_type": "code",
   "execution_count": 1,
   "metadata": {},
   "outputs": [],
   "source": [
    "import numpy as np\n",
    "import pandas as pd\n",
    "import matplotlib.pyplot as plt\n",
    "\n",
    "from sklearn.ensemble import RandomForestClassifier\n",
    "from sklearn.feature_selection import (\n",
    "    VarianceThreshold,\n",
    "    f_classif,\n",
    "    SelectKBest,\n",
    ")\n",
    "from sklearn.linear_model import LogisticRegression\n",
    "from sklearn.metrics import roc_auc_score\n",
    "from sklearn.model_selection import train_test_split\n",
    "from sklearn.preprocessing import StandardScaler"
   ]
  },
  {
   "cell_type": "code",
   "execution_count": 2,
   "metadata": {},
   "outputs": [
    {
     "data": {
      "text/plain": [
       "(50000, 301)"
      ]
     },
     "execution_count": 2,
     "metadata": {},
     "output_type": "execute_result"
    }
   ],
   "source": [
    "# load the Santander customer satisfaction dataset from Kaggle\n",
    "\n",
    "data = pd.read_csv('../Data/dataset_1.csv')\n",
    "data.shape"
   ]
  },
  {
   "cell_type": "code",
   "execution_count": 3,
   "metadata": {},
   "outputs": [
    {
     "data": {
      "text/plain": [
       "((35000, 300), (15000, 300))"
      ]
     },
     "execution_count": 3,
     "metadata": {},
     "output_type": "execute_result"
    }
   ],
   "source": [
    "# separate dataset into train and test\n",
    "X_train, X_test, y_train, y_test = train_test_split(\n",
    "    data.drop(labels=['target'], axis=1),\n",
    "    data['target'],\n",
    "    test_size=0.3,\n",
    "    random_state=0)\n",
    "\n",
    "X_train.shape, X_test.shape"
   ]
  },
  {
   "cell_type": "code",
   "execution_count": 4,
   "metadata": {},
   "outputs": [],
   "source": [
    "# I keep a copy of the dataset with all the variables\n",
    "# to compare the performance of machine learning models\n",
    "# at the end of the notebook\n",
    "\n",
    "X_train_original = X_train.copy()\n",
    "X_test_original = X_test.copy()"
   ]
  },
  {
   "cell_type": "markdown",
   "metadata": {},
   "source": [
    "### Remove constant features"
   ]
  },
  {
   "cell_type": "code",
   "execution_count": 5,
   "metadata": {},
   "outputs": [
    {
     "data": {
      "text/plain": [
       "((35000, 266), (15000, 266))"
      ]
     },
     "execution_count": 5,
     "metadata": {},
     "output_type": "execute_result"
    }
   ],
   "source": [
    "constant_features = [\n",
    "    feat for feat in X_train.columns if X_train[feat].std() == 0\n",
    "]\n",
    "\n",
    "X_train.drop(labels=constant_features, axis=1, inplace=True)\n",
    "X_test.drop(labels=constant_features, axis=1, inplace=True)\n",
    "\n",
    "X_train.shape, X_test.shape"
   ]
  },
  {
   "cell_type": "markdown",
   "metadata": {},
   "source": [
    "### Remove quasi-constant features"
   ]
  },
  {
   "cell_type": "code",
   "execution_count": 6,
   "metadata": {},
   "outputs": [
    {
     "data": {
      "text/plain": [
       "215"
      ]
     },
     "execution_count": 6,
     "metadata": {},
     "output_type": "execute_result"
    }
   ],
   "source": [
    "sel = VarianceThreshold(threshold=0.01)\n",
    "\n",
    "sel.fit(X_train) # finds the features with low variance\n",
    "\n",
    "sum(sel.get_support()) # how many not quasi-constant?"
   ]
  },
  {
   "cell_type": "code",
   "execution_count": 7,
   "metadata": {},
   "outputs": [
    {
     "data": {
      "text/plain": [
       "215"
      ]
     },
     "execution_count": 7,
     "metadata": {},
     "output_type": "execute_result"
    }
   ],
   "source": [
    "# previously, we captured the feature names like this:\n",
    "\n",
    "features_to_keep = X_train.columns[sel.get_support()]\n",
    "\n",
    "len(features_to_keep)"
   ]
  },
  {
   "cell_type": "code",
   "execution_count": 8,
   "metadata": {},
   "outputs": [
    {
     "data": {
      "text/plain": [
       "215"
      ]
     },
     "execution_count": 8,
     "metadata": {},
     "output_type": "execute_result"
    }
   ],
   "source": [
    "# now, we can also capture them like this:\n",
    "\n",
    "features_to_keep = sel.get_feature_names_out()\n",
    "\n",
    "len(features_to_keep)"
   ]
  },
  {
   "cell_type": "markdown",
   "metadata": {},
   "source": [
    "<font color=\"green\"># omd</font> \n",
    "\n",
    "Certainly! `VarianceThreshold` from scikit-learn is a simple feature selection technique that removes features whose variance doesn't meet a certain threshold. This is particularly useful when you have many features and want to remove those that are almost constant, as they typically don't contribute much to the model's performance. Here's an example of how to use `VarianceThreshold`:\n",
    "\n",
    "```python\n",
    "from sklearn.feature_selection import VarianceThreshold\n",
    "import pandas as pd\n",
    "\n",
    "# Create a sample DataFrame with features\n",
    "data = {\n",
    "    'feature1': [0, 1, 2, 3],\n",
    "    'feature2': [0, 0, 0, 0],\n",
    "    'feature3': [1, 1, 1, 1]\n",
    "}\n",
    "df = pd.DataFrame(data)\n",
    "\n",
    "print(\"Original DataFrame:\")\n",
    "print(df)\n",
    "\n",
    "# Apply VarianceThreshold to remove features with low variance\n",
    "threshold = 0.1  # Set the threshold for variance\n",
    "selector = VarianceThreshold(threshold=threshold)\n",
    "df_selected = selector.fit_transform(df)\n",
    "\n",
    "# Get the mask of selected features\n",
    "mask = selector.get_support()\n",
    "\n",
    "# Get the names of selected features\n",
    "selected_features = df.columns[mask]\n",
    "\n",
    "print(\"\\nSelected Features:\")\n",
    "print(selected_features)\n",
    "\n",
    "# Transform the selected features back to DataFrame\n",
    "df_selected = pd.DataFrame(df_selected, columns=selected_features)\n",
    "print(\"\\nDataFrame after feature selection:\")\n",
    "print(df_selected)\n",
    "```\n",
    "\n",
    "In this example, we have a DataFrame `df` with three features. `feature2` has very low variance (it's essentially constant), while `feature1` and `feature3` have higher variance. We apply `VarianceThreshold` with a threshold of `0.1` to remove features with variance less than this threshold. Finally, we print out the selected features and the DataFrame after feature selection.\n",
    "\n",
    "Remember to adjust the threshold value according to your specific dataset and requirements."
   ]
  },
  {
   "cell_type": "code",
   "execution_count": 9,
   "metadata": {},
   "outputs": [
    {
     "name": "stdout",
     "output_type": "stream",
     "text": [
      "Original DataFrame:\n",
      "   feature1  feature2  feature3\n",
      "0         0         0         1\n",
      "1         1         0         1\n",
      "2         2         0         1\n",
      "3         3         0         1\n",
      "\n",
      "Selected Features:\n",
      "Index(['feature1'], dtype='object')\n",
      "\n",
      "DataFrame after feature selection:\n",
      "   feature1\n",
      "0         0\n",
      "1         1\n",
      "2         2\n",
      "3         3\n"
     ]
    }
   ],
   "source": [
    "# omd\n",
    "\n",
    "# from sklearn.feature_selection import VarianceThreshold\n",
    "# import pandas as pd\n",
    "\n",
    "# Create a sample DataFrame with features\n",
    "data = {\n",
    "    'feature1': [0, 1, 2, 3],\n",
    "    'feature2': [0, 0, 0, 0],\n",
    "    'feature3': [1, 1, 1, 1]\n",
    "}\n",
    "df = pd.DataFrame(data)\n",
    "\n",
    "print(\"Original DataFrame:\")\n",
    "print(df)\n",
    "\n",
    "# Apply VarianceThreshold to remove features with low variance\n",
    "threshold = 0.1  # Set the threshold for variance\n",
    "selector = VarianceThreshold(threshold=threshold)\n",
    "df_selected = selector.fit_transform(df)\n",
    "\n",
    "# Get the mask of selected features\n",
    "mask = selector.get_support()\n",
    "\n",
    "# Get the names of selected features\n",
    "selected_features = df.columns[mask]\n",
    "\n",
    "print(\"\\nSelected Features:\")\n",
    "print(selected_features)\n",
    "\n",
    "# Transform the selected features back to DataFrame\n",
    "df_selected = pd.DataFrame(df_selected, columns=selected_features)\n",
    "print(\"\\nDataFrame after feature selection:\")\n",
    "print(df_selected)\n"
   ]
  },
  {
   "cell_type": "code",
   "execution_count": 10,
   "metadata": {},
   "outputs": [
    {
     "data": {
      "text/plain": [
       "((35000, 215), (15000, 215))"
      ]
     },
     "execution_count": 10,
     "metadata": {},
     "output_type": "execute_result"
    }
   ],
   "source": [
    "# remove the features\n",
    "\n",
    "X_train = sel.transform(X_train)\n",
    "X_test = sel.transform(X_test)\n",
    "\n",
    "X_train.shape, X_test.shape"
   ]
  },
  {
   "cell_type": "code",
   "execution_count": 11,
   "metadata": {},
   "outputs": [],
   "source": [
    "# sklearn transformations lead to numpy arrays\n",
    "# here I transform the arrays back to dataframes\n",
    "\n",
    "X_train= pd.DataFrame(X_train)\n",
    "X_train.columns = features_to_keep\n",
    "\n",
    "X_test= pd.DataFrame(X_test)\n",
    "X_test.columns = features_to_keep"
   ]
  },
  {
   "cell_type": "markdown",
   "metadata": {},
   "source": [
    "### Remove duplicated features"
   ]
  },
  {
   "cell_type": "code",
   "execution_count": 12,
   "metadata": {
    "scrolled": true
   },
   "outputs": [
    {
     "data": {
      "application/vnd.jupyter.widget-view+json": {
       "model_id": "80cc4abad55846988f2c17d36bad5bcd",
       "version_major": 2,
       "version_minor": 0
      },
      "text/plain": [
       "  0%|          | 0/215 [00:00<?, ?it/s]"
      ]
     },
     "metadata": {},
     "output_type": "display_data"
    },
    {
     "data": {
      "text/plain": [
       "10"
      ]
     },
     "execution_count": 12,
     "metadata": {},
     "output_type": "execute_result"
    }
   ],
   "source": [
    "# check for duplicated features in the training set\n",
    "\n",
    "from tqdm.notebook import tqdm\n",
    "\n",
    "duplicated_feat = []\n",
    "for i in tqdm(range(0, len(X_train.columns))):\n",
    "    # if i % 10 == 0:  # this helps me understand how the loop is going\n",
    "    #     print(i)\n",
    "\n",
    "    col_1 = X_train.columns[i]\n",
    "\n",
    "    for col_2 in X_train.columns[i + 1:]:\n",
    "        if X_train[col_1].equals(X_train[col_2]):\n",
    "            duplicated_feat.append(col_2)\n",
    "            \n",
    "len(duplicated_feat)"
   ]
  },
  {
   "cell_type": "code",
   "execution_count": 13,
   "metadata": {},
   "outputs": [
    {
     "data": {
      "text/plain": [
       "((35000, 205), (15000, 205))"
      ]
     },
     "execution_count": 13,
     "metadata": {},
     "output_type": "execute_result"
    }
   ],
   "source": [
    "# remove duplicated features\n",
    "X_train.drop(labels=duplicated_feat, axis=1, inplace=True)\n",
    "X_test.drop(labels=duplicated_feat, axis=1, inplace=True)\n",
    "\n",
    "X_train.shape, X_test.shape"
   ]
  },
  {
   "cell_type": "code",
   "execution_count": 14,
   "metadata": {},
   "outputs": [],
   "source": [
    "# I keep a copy of the dataset except constant and duplicated variables\n",
    "# to measure the performance of machine learning models\n",
    "# at the end of the notebook\n",
    "\n",
    "X_train_basic_filter = X_train.copy()\n",
    "X_test_basic_filter = X_test.copy()"
   ]
  },
  {
   "cell_type": "markdown",
   "metadata": {},
   "source": [
    "### Remove correlated features"
   ]
  },
  {
   "cell_type": "code",
   "execution_count": 15,
   "metadata": {},
   "outputs": [
    {
     "data": {
      "application/vnd.jupyter.widget-view+json": {
       "model_id": "1a0f0073dd7e4c29aabd136a9f38b4a9",
       "version_major": 2,
       "version_minor": 0
      },
      "text/plain": [
       "  0%|          | 0/205 [00:00<?, ?it/s]"
      ]
     },
     "metadata": {},
     "output_type": "display_data"
    },
    {
     "name": "stdout",
     "output_type": "stream",
     "text": [
      "correlated features:  93\n"
     ]
    }
   ],
   "source": [
    "# find and remove correlated features\n",
    "def correlation(dataset, threshold):\n",
    "    \n",
    "    col_corr = set()  # Set of all the names of correlated columns\n",
    "    corr_matrix = dataset.corr()\n",
    "    \n",
    "    for i in tqdm(range(len(corr_matrix.columns))):\n",
    "        for j in range(i):\n",
    "            # we are interested in absolute coeff value\n",
    "            if abs(corr_matrix.iloc[i, j]) > threshold:\n",
    "                colname = corr_matrix.columns[i]  # getting the name of column\n",
    "                col_corr.add(colname)\n",
    "    \n",
    "    return col_corr\n",
    "\n",
    "\n",
    "corr_features = correlation(X_train, 0.8)\n",
    "print('correlated features: ', len(set(corr_features)))"
   ]
  },
  {
   "cell_type": "code",
   "execution_count": 16,
   "metadata": {},
   "outputs": [
    {
     "data": {
      "text/plain": [
       "((35000, 112), (15000, 112))"
      ]
     },
     "execution_count": 16,
     "metadata": {},
     "output_type": "execute_result"
    }
   ],
   "source": [
    "# remove correlated features\n",
    "\n",
    "X_train.drop(labels=corr_features, axis=1, inplace=True)\n",
    "X_test.drop(labels=corr_features, axis=1, inplace=True)\n",
    "\n",
    "X_train.shape, X_test.shape"
   ]
  },
  {
   "cell_type": "code",
   "execution_count": 17,
   "metadata": {},
   "outputs": [],
   "source": [
    "# keep a copy of the dataset at  this stage\n",
    "\n",
    "X_train_corr = X_train.copy()\n",
    "X_test_corr = X_test.copy()"
   ]
  },
  {
   "cell_type": "markdown",
   "metadata": {},
   "source": [
    "### Select features based of anova"
   ]
  },
  {
   "cell_type": "code",
   "execution_count": 18,
   "metadata": {},
   "outputs": [
    {
     "data": {
      "text/plain": [
       "((35000, 20), (15000, 20))"
      ]
     },
     "execution_count": 18,
     "metadata": {},
     "output_type": "execute_result"
    }
   ],
   "source": [
    "sel_ = SelectKBest(f_classif, k=20).fit(X_train, y_train)\n",
    "\n",
    "# capture selected feature names\n",
    "features_to_keep = X_train.columns[sel_.get_support()]\n",
    "\n",
    "# or\n",
    "features_to_keep = sel_.get_feature_names_out()\n",
    "\n",
    "# ============\n",
    "\n",
    "# select features\n",
    "X_train_anova = sel_.transform(X_train)\n",
    "X_test_anova = sel_.transform(X_test)\n",
    "\n",
    "# numpy array to dataframe\n",
    "X_train_anova = pd.DataFrame(X_train_anova)\n",
    "X_train_anova.columns = features_to_keep\n",
    "\n",
    "X_test_anova = pd.DataFrame(X_test_anova)\n",
    "X_test_anova.columns = features_to_keep\n",
    "\n",
    "X_train_anova.shape, X_test_anova.shape"
   ]
  },
  {
   "cell_type": "markdown",
   "metadata": {},
   "source": [
    "### Compare the performance in machine learning algorithms"
   ]
  },
  {
   "cell_type": "code",
   "execution_count": 19,
   "metadata": {},
   "outputs": [],
   "source": [
    "# create a function to build random forests and\n",
    "# compare its performance in train and test sets\n",
    "\n",
    "\n",
    "def run_randomForests(X_train, X_test, y_train, y_test):\n",
    "\n",
    "    rf = RandomForestClassifier(n_estimators=200, random_state=39, max_depth=4)\n",
    "    rf.fit(X_train, y_train)\n",
    "\n",
    "    print('Train set')\n",
    "    pred = rf.predict_proba(X_train)\n",
    "    print(\n",
    "        'Random Forests roc-auc: {}'.format(roc_auc_score(y_train, pred[:, 1])))\n",
    "\n",
    "    print('Test set')\n",
    "    pred = rf.predict_proba(X_test)\n",
    "    print(\n",
    "        'Random Forests roc-auc: {}'.format(roc_auc_score(y_test, pred[:, 1])))"
   ]
  },
  {
   "cell_type": "code",
   "execution_count": 20,
   "metadata": {},
   "outputs": [
    {
     "name": "stdout",
     "output_type": "stream",
     "text": [
      "Train set\n",
      "Random Forests roc-auc: 0.807612232524249\n",
      "Test set\n",
      "Random Forests roc-auc: 0.7868832427636059\n"
     ]
    }
   ],
   "source": [
    "# original\n",
    "run_randomForests(X_train_original,\n",
    "                  X_test_original,\n",
    "                  y_train, y_test)"
   ]
  },
  {
   "cell_type": "code",
   "execution_count": 21,
   "metadata": {},
   "outputs": [
    {
     "name": "stdout",
     "output_type": "stream",
     "text": [
      "Train set\n",
      "Random Forests roc-auc: 0.810290026780428\n",
      "Test set\n",
      "Random Forests roc-auc: 0.7914020645941601\n"
     ]
    }
   ],
   "source": [
    "# filter methods - basic\n",
    "run_randomForests(X_train_basic_filter,\n",
    "                  X_test_basic_filter,\n",
    "                  y_train, y_test)"
   ]
  },
  {
   "cell_type": "code",
   "execution_count": 22,
   "metadata": {},
   "outputs": [
    {
     "name": "stdout",
     "output_type": "stream",
     "text": [
      "Train set\n",
      "Random Forests roc-auc: 0.8066004772684517\n",
      "Test set\n",
      "Random Forests roc-auc: 0.7859521124929707\n"
     ]
    }
   ],
   "source": [
    "# filter methods - correlation\n",
    "run_randomForests(X_train_corr,\n",
    "                  X_test_corr,\n",
    "                  y_train, y_test)"
   ]
  },
  {
   "cell_type": "code",
   "execution_count": 23,
   "metadata": {},
   "outputs": [
    {
     "name": "stdout",
     "output_type": "stream",
     "text": [
      "Train set\n",
      "Random Forests roc-auc: 0.8181634778452822\n",
      "Test set\n",
      "Random Forests roc-auc: 0.7994720109870546\n"
     ]
    }
   ],
   "source": [
    "# filter methods - univariate roc-auc\n",
    "run_randomForests(X_train_anova,\n",
    "                  X_test_anova,\n",
    "                  y_train, y_test)"
   ]
  },
  {
   "cell_type": "markdown",
   "metadata": {},
   "source": [
    "As we see, the 20 features we selected using the univariate anova are doing a good job, as the final model does not show a decrease in performance compared to that one using all features."
   ]
  },
  {
   "cell_type": "code",
   "execution_count": 24,
   "metadata": {},
   "outputs": [],
   "source": [
    "# create a function to build logistic regression\n",
    "# and compare its performance in train and test sets\n",
    "\n",
    "\n",
    "def run_logistic(X_train, X_test, y_train, y_test):\n",
    "\n",
    "    scaler = StandardScaler().fit(X_train)\n",
    "\n",
    "    # function to train and test the performance of logistic regression\n",
    "    logit = LogisticRegression(\n",
    "        penalty='l1', random_state=44, max_iter=1000, solver='liblinear')\n",
    "    \n",
    "    # fit\n",
    "    logit.fit(scaler.transform(X_train), y_train)\n",
    "\n",
    "    print('Train set')\n",
    "    pred = logit.predict_proba(scaler.transform(X_train))\n",
    "    print(\n",
    "        'Logistic Regression roc-auc: {}'.format(roc_auc_score(y_train, pred[:, 1])))\n",
    "\n",
    "    print('Test set')\n",
    "    pred = logit.predict_proba(scaler.transform(X_test))\n",
    "    print(\n",
    "        'Logistic Regression roc-auc: {}'.format(roc_auc_score(y_test, pred[:, 1])))"
   ]
  },
  {
   "cell_type": "code",
   "execution_count": 25,
   "metadata": {},
   "outputs": [
    {
     "name": "stdout",
     "output_type": "stream",
     "text": [
      "Train set\n",
      "Logistic Regression roc-auc: 0.8022197599721129\n",
      "Test set\n",
      "Logistic Regression roc-auc: 0.795929816232469\n"
     ]
    }
   ],
   "source": [
    "# original\n",
    "run_logistic(X_train_original,\n",
    "             X_test_original,\n",
    "             y_train, y_test)"
   ]
  },
  {
   "cell_type": "code",
   "execution_count": 26,
   "metadata": {},
   "outputs": [
    {
     "name": "stdout",
     "output_type": "stream",
     "text": [
      "Train set\n",
      "Logistic Regression roc-auc: 0.801572922199813\n",
      "Test set\n",
      "Logistic Regression roc-auc: 0.7956276722308412\n"
     ]
    }
   ],
   "source": [
    "# filter methods - basic\n",
    "\n",
    "run_logistic(X_train_basic_filter,\n",
    "             X_test_basic_filter,\n",
    "             y_train, y_test)"
   ]
  },
  {
   "cell_type": "code",
   "execution_count": 27,
   "metadata": {},
   "outputs": [
    {
     "name": "stdout",
     "output_type": "stream",
     "text": [
      "Train set\n",
      "Logistic Regression roc-auc: 0.7938745217286656\n",
      "Test set\n",
      "Logistic Regression roc-auc: 0.7882478643347434\n"
     ]
    }
   ],
   "source": [
    "# filter methods - correlation\n",
    "\n",
    "run_logistic(X_train_corr,\n",
    "             X_test_corr,\n",
    "             y_train, y_test)"
   ]
  },
  {
   "cell_type": "code",
   "execution_count": 28,
   "metadata": {},
   "outputs": [
    {
     "name": "stdout",
     "output_type": "stream",
     "text": [
      "Train set\n",
      "Logistic Regression roc-auc: 0.7827245834924114\n",
      "Test set\n",
      "Logistic Regression roc-auc: 0.7720492495853009\n"
     ]
    }
   ],
   "source": [
    "# filter methods - univariate anova\n",
    "\n",
    "run_logistic(X_train_anova,\n",
    "             X_test_anova,\n",
    "             y_train, y_test)"
   ]
  },
  {
   "cell_type": "markdown",
   "metadata": {},
   "source": [
    "As we see, the 20 features we selected using the univariate anova are doing a good job, as the final model does not show a big decrease in performance compared to that one using all features.\n",
    "\n",
    "Why don't you try to apply the univariate anova without removing features by correlation, to see if the selected features are good enough?\n",
    "\n",
    "That is all for this lecture. I hope you enjoyed it!"
   ]
  },
  {
   "cell_type": "code",
   "execution_count": 168,
   "metadata": {},
   "outputs": [
    {
     "data": {
      "text/plain": [
       "(112, 35000)"
      ]
     },
     "execution_count": 168,
     "metadata": {},
     "output_type": "execute_result"
    }
   ],
   "source": [
    "# omd\n",
    "\n",
    "from scipy.cluster.hierarchy import dendrogram, linkage, fcluster\n",
    "from sklearn.preprocessing import StandardScaler\n",
    "\n",
    "# Standardize features\n",
    "scaler = StandardScaler()\n",
    "X_train_scaled = scaler.fit_transform(X_train)\n",
    "X_train_scaled = pd.DataFrame(X_train_scaled,columns=X_train.columns)\n",
    "# Transpose so that each row is a feature\n",
    "df_transposed = X_train_scaled.transpose()\n",
    "\n",
    "np.shape(df_transposed)"
   ]
  },
  {
   "cell_type": "code",
   "execution_count": 169,
   "metadata": {},
   "outputs": [
    {
     "data": {
      "text/plain": [
       "(111, 4)"
      ]
     },
     "execution_count": 169,
     "metadata": {},
     "output_type": "execute_result"
    }
   ],
   "source": [
    "# omd\n",
    "# Perform hierarchical clustering on features\n",
    "linked = linkage(df_transposed, method='ward', metric='euclidean')\n",
    "\n",
    "np.shape(linked)"
   ]
  },
  {
   "cell_type": "code",
   "execution_count": 170,
   "metadata": {},
   "outputs": [
    {
     "data": {
      "text/html": [
       "<div>\n",
       "<style scoped>\n",
       "    .dataframe tbody tr th:only-of-type {\n",
       "        vertical-align: middle;\n",
       "    }\n",
       "\n",
       "    .dataframe tbody tr th {\n",
       "        vertical-align: top;\n",
       "    }\n",
       "\n",
       "    .dataframe thead th {\n",
       "        text-align: right;\n",
       "    }\n",
       "</style>\n",
       "<table border=\"1\" class=\"dataframe\">\n",
       "  <thead>\n",
       "    <tr style=\"text-align: right;\">\n",
       "      <th></th>\n",
       "      <th>c1</th>\n",
       "      <th>c2</th>\n",
       "      <th>distance</th>\n",
       "      <th>size</th>\n",
       "    </tr>\n",
       "  </thead>\n",
       "  <tbody>\n",
       "    <tr>\n",
       "      <th>0</th>\n",
       "      <td>35</td>\n",
       "      <td>77</td>\n",
       "      <td>122.843066</td>\n",
       "      <td>2</td>\n",
       "    </tr>\n",
       "    <tr>\n",
       "      <th>1</th>\n",
       "      <td>4</td>\n",
       "      <td>87</td>\n",
       "      <td>122.929496</td>\n",
       "      <td>2</td>\n",
       "    </tr>\n",
       "    <tr>\n",
       "      <th>2</th>\n",
       "      <td>13</td>\n",
       "      <td>45</td>\n",
       "      <td>124.073849</td>\n",
       "      <td>2</td>\n",
       "    </tr>\n",
       "    <tr>\n",
       "      <th>3</th>\n",
       "      <td>18</td>\n",
       "      <td>41</td>\n",
       "      <td>124.454508</td>\n",
       "      <td>2</td>\n",
       "    </tr>\n",
       "    <tr>\n",
       "      <th>4</th>\n",
       "      <td>74</td>\n",
       "      <td>108</td>\n",
       "      <td>125.661272</td>\n",
       "      <td>2</td>\n",
       "    </tr>\n",
       "    <tr>\n",
       "      <th>5</th>\n",
       "      <td>20</td>\n",
       "      <td>24</td>\n",
       "      <td>128.950503</td>\n",
       "      <td>2</td>\n",
       "    </tr>\n",
       "    <tr>\n",
       "      <th>6</th>\n",
       "      <td>16</td>\n",
       "      <td>59</td>\n",
       "      <td>130.409001</td>\n",
       "      <td>2</td>\n",
       "    </tr>\n",
       "    <tr>\n",
       "      <th>7</th>\n",
       "      <td>28</td>\n",
       "      <td>64</td>\n",
       "      <td>130.992836</td>\n",
       "      <td>2</td>\n",
       "    </tr>\n",
       "    <tr>\n",
       "      <th>8</th>\n",
       "      <td>14</td>\n",
       "      <td>27</td>\n",
       "      <td>131.248342</td>\n",
       "      <td>2</td>\n",
       "    </tr>\n",
       "    <tr>\n",
       "      <th>9</th>\n",
       "      <td>21</td>\n",
       "      <td>44</td>\n",
       "      <td>133.795242</td>\n",
       "      <td>2</td>\n",
       "    </tr>\n",
       "  </tbody>\n",
       "</table>\n",
       "</div>"
      ],
      "text/plain": [
       "   c1   c2    distance  size\n",
       "0  35   77  122.843066     2\n",
       "1   4   87  122.929496     2\n",
       "2  13   45  124.073849     2\n",
       "3  18   41  124.454508     2\n",
       "4  74  108  125.661272     2\n",
       "5  20   24  128.950503     2\n",
       "6  16   59  130.409001     2\n",
       "7  28   64  130.992836     2\n",
       "8  14   27  131.248342     2\n",
       "9  21   44  133.795242     2"
      ]
     },
     "execution_count": 170,
     "metadata": {},
     "output_type": "execute_result"
    }
   ],
   "source": [
    "# omd\n",
    "\n",
    "df_linked = pd.DataFrame(linked, columns=['c1','c2','distance','size'])\n",
    "df_linked[['c1','c2','size']] = df_linked[['c1','c2','size']].astype('int')\n",
    "\n",
    "df_linked.head(10)"
   ]
  },
  {
   "cell_type": "code",
   "execution_count": 171,
   "metadata": {},
   "outputs": [
    {
     "data": {
      "image/png": "[encoded data removed]",
      "text/plain": [
       "<Figure size 2000x1000 with 1 Axes>"
      ]
     },
     "metadata": {},
     "output_type": "display_data"
    }
   ],
   "source": [
    "# omd\n",
    "\n",
    "# Create a dendrogram to visualize the feature clustering\n",
    "plt.figure(figsize=(20, 10))\n",
    "\n",
    "dendrogram(linked, \n",
    "           orientation='top', \n",
    "           labels=df_transposed.index, \n",
    "           distance_sort='descending', \n",
    "           show_leaf_counts=True)\n",
    "\n",
    "#plt.title('Hierarchical Feature Clustering Dendrogram')\n",
    "plt.xlabel('Features')\n",
    "plt.ylabel('Ward’s distance')\n",
    "# plt.tight_layout()\n",
    "plt.show()"
   ]
  },
  {
   "cell_type": "code",
   "execution_count": 173,
   "metadata": {},
   "outputs": [
    {
     "data": {
      "text/html": [
       "<div>\n",
       "<style scoped>\n",
       "    .dataframe tbody tr th:only-of-type {\n",
       "        vertical-align: middle;\n",
       "    }\n",
       "\n",
       "    .dataframe tbody tr th {\n",
       "        vertical-align: top;\n",
       "    }\n",
       "\n",
       "    .dataframe thead th {\n",
       "        text-align: right;\n",
       "    }\n",
       "</style>\n",
       "<table border=\"1\" class=\"dataframe\">\n",
       "  <thead>\n",
       "    <tr style=\"text-align: right;\">\n",
       "      <th></th>\n",
       "      <th>0</th>\n",
       "      <th>1</th>\n",
       "      <th>2</th>\n",
       "      <th>3</th>\n",
       "      <th>4</th>\n",
       "      <th>5</th>\n",
       "      <th>6</th>\n",
       "      <th>7</th>\n",
       "      <th>8</th>\n",
       "      <th>9</th>\n",
       "      <th>...</th>\n",
       "      <th>34990</th>\n",
       "      <th>34991</th>\n",
       "      <th>34992</th>\n",
       "      <th>34993</th>\n",
       "      <th>34994</th>\n",
       "      <th>34995</th>\n",
       "      <th>34996</th>\n",
       "      <th>34997</th>\n",
       "      <th>34998</th>\n",
       "      <th>34999</th>\n",
       "    </tr>\n",
       "  </thead>\n",
       "  <tbody>\n",
       "    <tr>\n",
       "      <th>var_3</th>\n",
       "      <td>-0.010362</td>\n",
       "      <td>-0.010362</td>\n",
       "      <td>-0.010362</td>\n",
       "      <td>-0.010362</td>\n",
       "      <td>-0.010362</td>\n",
       "      <td>-0.010362</td>\n",
       "      <td>-0.010362</td>\n",
       "      <td>-0.010362</td>\n",
       "      <td>-0.010362</td>\n",
       "      <td>-0.010362</td>\n",
       "      <td>...</td>\n",
       "      <td>-0.010362</td>\n",
       "      <td>-0.010362</td>\n",
       "      <td>-0.010362</td>\n",
       "      <td>-0.010362</td>\n",
       "      <td>-0.010362</td>\n",
       "      <td>-0.010362</td>\n",
       "      <td>-0.010362</td>\n",
       "      <td>-0.010362</td>\n",
       "      <td>-0.010362</td>\n",
       "      <td>-0.010362</td>\n",
       "    </tr>\n",
       "    <tr>\n",
       "      <th>var_4</th>\n",
       "      <td>-0.133825</td>\n",
       "      <td>-0.068475</td>\n",
       "      <td>-1.146743</td>\n",
       "      <td>-0.133825</td>\n",
       "      <td>0.922660</td>\n",
       "      <td>-1.146743</td>\n",
       "      <td>-0.057584</td>\n",
       "      <td>-0.144717</td>\n",
       "      <td>-1.146743</td>\n",
       "      <td>-0.133825</td>\n",
       "      <td>...</td>\n",
       "      <td>-1.146743</td>\n",
       "      <td>-0.155608</td>\n",
       "      <td>-0.155608</td>\n",
       "      <td>-0.112042</td>\n",
       "      <td>-0.068475</td>\n",
       "      <td>-1.146743</td>\n",
       "      <td>1.859337</td>\n",
       "      <td>0.900876</td>\n",
       "      <td>-0.057584</td>\n",
       "      <td>0.988009</td>\n",
       "    </tr>\n",
       "    <tr>\n",
       "      <th>var_5</th>\n",
       "      <td>-0.055257</td>\n",
       "      <td>-0.055257</td>\n",
       "      <td>-0.055257</td>\n",
       "      <td>7.871081</td>\n",
       "      <td>-0.055257</td>\n",
       "      <td>-0.055257</td>\n",
       "      <td>-0.055257</td>\n",
       "      <td>-0.055257</td>\n",
       "      <td>-0.055257</td>\n",
       "      <td>-0.055257</td>\n",
       "      <td>...</td>\n",
       "      <td>-0.055257</td>\n",
       "      <td>-0.055257</td>\n",
       "      <td>-0.055257</td>\n",
       "      <td>-0.055257</td>\n",
       "      <td>-0.055257</td>\n",
       "      <td>-0.055257</td>\n",
       "      <td>-0.055257</td>\n",
       "      <td>-0.055257</td>\n",
       "      <td>-0.055257</td>\n",
       "      <td>-0.055257</td>\n",
       "    </tr>\n",
       "    <tr>\n",
       "      <th>var_6</th>\n",
       "      <td>-0.007560</td>\n",
       "      <td>-0.007560</td>\n",
       "      <td>-0.007560</td>\n",
       "      <td>-0.007560</td>\n",
       "      <td>-0.007560</td>\n",
       "      <td>-0.007560</td>\n",
       "      <td>-0.007560</td>\n",
       "      <td>-0.007560</td>\n",
       "      <td>-0.007560</td>\n",
       "      <td>-0.007560</td>\n",
       "      <td>...</td>\n",
       "      <td>-0.007560</td>\n",
       "      <td>-0.007560</td>\n",
       "      <td>-0.007560</td>\n",
       "      <td>-0.007560</td>\n",
       "      <td>-0.007560</td>\n",
       "      <td>-0.007560</td>\n",
       "      <td>-0.007560</td>\n",
       "      <td>-0.007560</td>\n",
       "      <td>-0.007560</td>\n",
       "      <td>-0.007560</td>\n",
       "    </tr>\n",
       "    <tr>\n",
       "      <th>var_8</th>\n",
       "      <td>-0.111135</td>\n",
       "      <td>-0.111135</td>\n",
       "      <td>-0.111135</td>\n",
       "      <td>-0.111135</td>\n",
       "      <td>-0.111135</td>\n",
       "      <td>-0.111135</td>\n",
       "      <td>-0.111135</td>\n",
       "      <td>-0.111135</td>\n",
       "      <td>-0.111135</td>\n",
       "      <td>-0.111135</td>\n",
       "      <td>...</td>\n",
       "      <td>-0.111135</td>\n",
       "      <td>-0.111135</td>\n",
       "      <td>-0.111135</td>\n",
       "      <td>-0.111135</td>\n",
       "      <td>-0.111135</td>\n",
       "      <td>-0.111135</td>\n",
       "      <td>-0.111135</td>\n",
       "      <td>-0.111135</td>\n",
       "      <td>-0.111135</td>\n",
       "      <td>-0.111135</td>\n",
       "    </tr>\n",
       "    <tr>\n",
       "      <th>...</th>\n",
       "      <td>...</td>\n",
       "      <td>...</td>\n",
       "      <td>...</td>\n",
       "      <td>...</td>\n",
       "      <td>...</td>\n",
       "      <td>...</td>\n",
       "      <td>...</td>\n",
       "      <td>...</td>\n",
       "      <td>...</td>\n",
       "      <td>...</td>\n",
       "      <td>...</td>\n",
       "      <td>...</td>\n",
       "      <td>...</td>\n",
       "      <td>...</td>\n",
       "      <td>...</td>\n",
       "      <td>...</td>\n",
       "      <td>...</td>\n",
       "      <td>...</td>\n",
       "      <td>...</td>\n",
       "      <td>...</td>\n",
       "      <td>...</td>\n",
       "    </tr>\n",
       "    <tr>\n",
       "      <th>var_271</th>\n",
       "      <td>-0.183893</td>\n",
       "      <td>-0.183893</td>\n",
       "      <td>-0.183893</td>\n",
       "      <td>-0.183893</td>\n",
       "      <td>-0.183893</td>\n",
       "      <td>-0.183893</td>\n",
       "      <td>-0.183893</td>\n",
       "      <td>-0.183893</td>\n",
       "      <td>-0.183893</td>\n",
       "      <td>2.675605</td>\n",
       "      <td>...</td>\n",
       "      <td>-0.183893</td>\n",
       "      <td>-0.183893</td>\n",
       "      <td>-0.183893</td>\n",
       "      <td>-0.183893</td>\n",
       "      <td>-0.183893</td>\n",
       "      <td>-0.183893</td>\n",
       "      <td>-0.183893</td>\n",
       "      <td>-0.183893</td>\n",
       "      <td>-0.183893</td>\n",
       "      <td>-0.183893</td>\n",
       "    </tr>\n",
       "    <tr>\n",
       "      <th>var_276</th>\n",
       "      <td>-0.062038</td>\n",
       "      <td>-0.062038</td>\n",
       "      <td>-0.062038</td>\n",
       "      <td>-0.062038</td>\n",
       "      <td>-0.062038</td>\n",
       "      <td>-0.062038</td>\n",
       "      <td>-0.062038</td>\n",
       "      <td>-0.062038</td>\n",
       "      <td>-0.062038</td>\n",
       "      <td>-0.062038</td>\n",
       "      <td>...</td>\n",
       "      <td>-0.062038</td>\n",
       "      <td>-0.062038</td>\n",
       "      <td>-0.062038</td>\n",
       "      <td>-0.062038</td>\n",
       "      <td>-0.062038</td>\n",
       "      <td>-0.062038</td>\n",
       "      <td>0.020830</td>\n",
       "      <td>-0.062038</td>\n",
       "      <td>-0.062038</td>\n",
       "      <td>-0.062038</td>\n",
       "    </tr>\n",
       "    <tr>\n",
       "      <th>var_288</th>\n",
       "      <td>-0.097559</td>\n",
       "      <td>-0.097559</td>\n",
       "      <td>-0.097559</td>\n",
       "      <td>-0.097559</td>\n",
       "      <td>-0.097559</td>\n",
       "      <td>-0.097559</td>\n",
       "      <td>-0.097559</td>\n",
       "      <td>-0.097559</td>\n",
       "      <td>-0.097559</td>\n",
       "      <td>-0.097559</td>\n",
       "      <td>...</td>\n",
       "      <td>-0.097559</td>\n",
       "      <td>-0.097559</td>\n",
       "      <td>-0.097559</td>\n",
       "      <td>-0.097559</td>\n",
       "      <td>-0.097559</td>\n",
       "      <td>-0.097559</td>\n",
       "      <td>-0.097559</td>\n",
       "      <td>-0.097559</td>\n",
       "      <td>-0.097559</td>\n",
       "      <td>-0.097559</td>\n",
       "    </tr>\n",
       "    <tr>\n",
       "      <th>var_292</th>\n",
       "      <td>-0.075089</td>\n",
       "      <td>-0.075089</td>\n",
       "      <td>-0.075089</td>\n",
       "      <td>-0.075089</td>\n",
       "      <td>-0.075089</td>\n",
       "      <td>-0.075089</td>\n",
       "      <td>-0.075089</td>\n",
       "      <td>-0.075089</td>\n",
       "      <td>-0.075089</td>\n",
       "      <td>-0.075089</td>\n",
       "      <td>...</td>\n",
       "      <td>-0.075089</td>\n",
       "      <td>-0.075089</td>\n",
       "      <td>-0.075089</td>\n",
       "      <td>-0.075089</td>\n",
       "      <td>-0.075089</td>\n",
       "      <td>-0.075089</td>\n",
       "      <td>5.413842</td>\n",
       "      <td>-0.075089</td>\n",
       "      <td>-0.075089</td>\n",
       "      <td>-0.075089</td>\n",
       "    </tr>\n",
       "    <tr>\n",
       "      <th>var_293</th>\n",
       "      <td>-0.046594</td>\n",
       "      <td>-0.046594</td>\n",
       "      <td>-0.046594</td>\n",
       "      <td>-0.046594</td>\n",
       "      <td>-0.046594</td>\n",
       "      <td>-0.046594</td>\n",
       "      <td>-0.046594</td>\n",
       "      <td>-0.046594</td>\n",
       "      <td>-0.046594</td>\n",
       "      <td>-0.046594</td>\n",
       "      <td>...</td>\n",
       "      <td>-0.046594</td>\n",
       "      <td>-0.046594</td>\n",
       "      <td>-0.046594</td>\n",
       "      <td>-0.046594</td>\n",
       "      <td>-0.046594</td>\n",
       "      <td>-0.046594</td>\n",
       "      <td>-0.046594</td>\n",
       "      <td>-0.046594</td>\n",
       "      <td>-0.046594</td>\n",
       "      <td>-0.046594</td>\n",
       "    </tr>\n",
       "  </tbody>\n",
       "</table>\n",
       "<p>112 rows × 35000 columns</p>\n",
       "</div>"
      ],
      "text/plain": [
       "            0         1         2         3         4         5         6      \\\n",
       "var_3   -0.010362 -0.010362 -0.010362 -0.010362 -0.010362 -0.010362 -0.010362   \n",
       "var_4   -0.133825 -0.068475 -1.146743 -0.133825  0.922660 -1.146743 -0.057584   \n",
       "var_5   -0.055257 -0.055257 -0.055257  7.871081 -0.055257 -0.055257 -0.055257   \n",
       "var_6   -0.007560 -0.007560 -0.007560 -0.007560 -0.007560 -0.007560 -0.007560   \n",
       "var_8   -0.111135 -0.111135 -0.111135 -0.111135 -0.111135 -0.111135 -0.111135   \n",
       "...           ...       ...       ...       ...       ...       ...       ...   \n",
       "var_271 -0.183893 -0.183893 -0.183893 -0.183893 -0.183893 -0.183893 -0.183893   \n",
       "var_276 -0.062038 -0.062038 -0.062038 -0.062038 -0.062038 -0.062038 -0.062038   \n",
       "var_288 -0.097559 -0.097559 -0.097559 -0.097559 -0.097559 -0.097559 -0.097559   \n",
       "var_292 -0.075089 -0.075089 -0.075089 -0.075089 -0.075089 -0.075089 -0.075089   \n",
       "var_293 -0.046594 -0.046594 -0.046594 -0.046594 -0.046594 -0.046594 -0.046594   \n",
       "\n",
       "            7         8         9      ...     34990     34991     34992  \\\n",
       "var_3   -0.010362 -0.010362 -0.010362  ... -0.010362 -0.010362 -0.010362   \n",
       "var_4   -0.144717 -1.146743 -0.133825  ... -1.146743 -0.155608 -0.155608   \n",
       "var_5   -0.055257 -0.055257 -0.055257  ... -0.055257 -0.055257 -0.055257   \n",
       "var_6   -0.007560 -0.007560 -0.007560  ... -0.007560 -0.007560 -0.007560   \n",
       "var_8   -0.111135 -0.111135 -0.111135  ... -0.111135 -0.111135 -0.111135   \n",
       "...           ...       ...       ...  ...       ...       ...       ...   \n",
       "var_271 -0.183893 -0.183893  2.675605  ... -0.183893 -0.183893 -0.183893   \n",
       "var_276 -0.062038 -0.062038 -0.062038  ... -0.062038 -0.062038 -0.062038   \n",
       "var_288 -0.097559 -0.097559 -0.097559  ... -0.097559 -0.097559 -0.097559   \n",
       "var_292 -0.075089 -0.075089 -0.075089  ... -0.075089 -0.075089 -0.075089   \n",
       "var_293 -0.046594 -0.046594 -0.046594  ... -0.046594 -0.046594 -0.046594   \n",
       "\n",
       "            34993     34994     34995     34996     34997     34998     34999  \n",
       "var_3   -0.010362 -0.010362 -0.010362 -0.010362 -0.010362 -0.010362 -0.010362  \n",
       "var_4   -0.112042 -0.068475 -1.146743  1.859337  0.900876 -0.057584  0.988009  \n",
       "var_5   -0.055257 -0.055257 -0.055257 -0.055257 -0.055257 -0.055257 -0.055257  \n",
       "var_6   -0.007560 -0.007560 -0.007560 -0.007560 -0.007560 -0.007560 -0.007560  \n",
       "var_8   -0.111135 -0.111135 -0.111135 -0.111135 -0.111135 -0.111135 -0.111135  \n",
       "...           ...       ...       ...       ...       ...       ...       ...  \n",
       "var_271 -0.183893 -0.183893 -0.183893 -0.183893 -0.183893 -0.183893 -0.183893  \n",
       "var_276 -0.062038 -0.062038 -0.062038  0.020830 -0.062038 -0.062038 -0.062038  \n",
       "var_288 -0.097559 -0.097559 -0.097559 -0.097559 -0.097559 -0.097559 -0.097559  \n",
       "var_292 -0.075089 -0.075089 -0.075089  5.413842 -0.075089 -0.075089 -0.075089  \n",
       "var_293 -0.046594 -0.046594 -0.046594 -0.046594 -0.046594 -0.046594 -0.046594  \n",
       "\n",
       "[112 rows x 35000 columns]"
      ]
     },
     "execution_count": 173,
     "metadata": {},
     "output_type": "execute_result"
    }
   ],
   "source": [
    "df_transposed"
   ]
  },
  {
   "cell_type": "code",
   "execution_count": 172,
   "metadata": {},
   "outputs": [],
   "source": [
    "# omd\n",
    "\n",
    "num_clusters = 15  # Adjust the number of clusters as needed\n",
    "labels = fcluster(linked, t=num_clusters, criterion='maxclust')"
   ]
  },
  {
   "cell_type": "code",
   "execution_count": null,
   "metadata": {},
   "outputs": [],
   "source": [
    "# omd\n",
    "\n",
    "# Find correlation between features and target variable\n",
    "correlations = []\n",
    "for col in X_train_scaled.columns:\n",
    "    corr = y_train.corr(X_train_scaled[col])\n",
    "    corr = round(corr, 3)\n",
    "    correlations.append(corr)"
   ]
  },
  {
   "cell_type": "code",
   "execution_count": null,
   "metadata": {},
   "outputs": [],
   "source": [
    "# omd \n",
    "\n",
    "df_clusters = pd.DataFrame(list(zip(X_train.columns, labels, correlations)),\n",
    "                           columns=['feature','cluster','corr'])\n",
    "\n",
    "df_clusters['abs_corr'] = df_clusters['corr'].abs()\n",
    "\n",
    "df_clusters.sort_values(by=['cluster','abs_corr'], ascending=[True,False], inplace=True)\n",
    "df_clusters.reset_index(drop=True, inplace=True)\n",
    "df_clusters.head(10)"
   ]
  },
  {
   "cell_type": "code",
   "execution_count": null,
   "metadata": {},
   "outputs": [],
   "source": [
    "# omd\n",
    "\n",
    "df_clusters['cluster'].value_counts()"
   ]
  },
  {
   "cell_type": "code",
   "execution_count": null,
   "metadata": {},
   "outputs": [],
   "source": [
    "# omd\n",
    "\n",
    "c2_features = df_clusters[df_clusters['cluster']==2]['feature'].tolist()\n",
    "c3_features = df_clusters[df_clusters['cluster']==3]['feature'].tolist()\n",
    "\n",
    "print(c2_features)\n",
    "print(c3_features)"
   ]
  },
  {
   "cell_type": "code",
   "execution_count": null,
   "metadata": {},
   "outputs": [],
   "source": [
    "# omd\n",
    "\n",
    "import seaborn as sns \n",
    "\n",
    "\n",
    "# Plot correlations for features in cluster 2\n",
    "corr = X_train[c2_features].corr()\n",
    "\n",
    "plt.figure(figsize=(5, 4))\n",
    "sns.heatmap(corr, \n",
    "            annot=True, \n",
    "            cmap='coolwarm', \n",
    "            linewidths=0.5, \n",
    "            fmt=\".1f\",\n",
    "            annot_kws={\"size\": 7},\n",
    "            vmin=-1, vmax=1)\n",
    "plt.title('Cluster 2')\n",
    "plt.xticks(size=7)\n",
    "plt.yticks(size=7)"
   ]
  },
  {
   "cell_type": "code",
   "execution_count": null,
   "metadata": {},
   "outputs": [],
   "source": [
    "# omd \n",
    "# Plot correlations for features in cluster 2 and 3\n",
    "corr = X_train[np.append(c2_features,c3_features)].corr()\n",
    "\n",
    "# plot correlation matrix\n",
    "plt.figure(figsize=(8, 7))\n",
    "sns.heatmap(corr, \n",
    "            annot=True, \n",
    "            cmap='coolwarm', \n",
    "            linewidths=0.5, \n",
    "            fmt=\".1f\",\n",
    "            annot_kws={\"size\": 7},\n",
    "            vmin=-1, vmax=1)\n",
    "plt.title('Cluster 2 and 3')\n",
    "plt.xticks(size=7)\n",
    "plt.yticks(size=7)\n",
    "\n",
    "# change size of colorbar labels\n",
    "cbar = plt.gcf().axes[-1]\n",
    "cbar.tick_params(labelsize=7)\n",
    "plt.xticks(size=7)\n",
    "plt.yticks(size=7)"
   ]
  },
  {
   "cell_type": "code",
   "execution_count": null,
   "metadata": {},
   "outputs": [],
   "source": []
  },
  {
   "cell_type": "code",
   "execution_count": null,
   "metadata": {},
   "outputs": [],
   "source": []
  },
  {
   "cell_type": "code",
   "execution_count": 147,
   "metadata": {},
   "outputs": [
    {
     "data": {
      "text/html": [
       "<style>#sk-container-id-21 {color: black;}#sk-container-id-21 pre{padding: 0;}#sk-container-id-21 div.sk-toggleable {background-color: white;}#sk-container-id-21 label.sk-toggleable__label {cursor: pointer;display: block;width: 100%;margin-bottom: 0;padding: 0.3em;box-sizing: border-box;text-align: center;}#sk-container-id-21 label.sk-toggleable__label-arrow:before {content: \"▸\";float: left;margin-right: 0.25em;color: #696969;}#sk-container-id-21 label.sk-toggleable__label-arrow:hover:before {color: black;}#sk-container-id-21 div.sk-estimator:hover label.sk-toggleable__label-arrow:before {color: black;}#sk-container-id-21 div.sk-toggleable__content {max-height: 0;max-width: 0;overflow: hidden;text-align: left;background-color: #f0f8ff;}#sk-container-id-21 div.sk-toggleable__content pre {margin: 0.2em;color: black;border-radius: 0.25em;background-color: #f0f8ff;}#sk-container-id-21 input.sk-toggleable__control:checked~div.sk-toggleable__content {max-height: 200px;max-width: 100%;overflow: auto;}#sk-container-id-21 input.sk-toggleable__control:checked~label.sk-toggleable__label-arrow:before {content: \"▾\";}#sk-container-id-21 div.sk-estimator input.sk-toggleable__control:checked~label.sk-toggleable__label {background-color: #d4ebff;}#sk-container-id-21 div.sk-label input.sk-toggleable__control:checked~label.sk-toggleable__label {background-color: #d4ebff;}#sk-container-id-21 input.sk-hidden--visually {border: 0;clip: rect(1px 1px 1px 1px);clip: rect(1px, 1px, 1px, 1px);height: 1px;margin: -1px;overflow: hidden;padding: 0;position: absolute;width: 1px;}#sk-container-id-21 div.sk-estimator {font-family: monospace;background-color: #f0f8ff;border: 1px dotted black;border-radius: 0.25em;box-sizing: border-box;margin-bottom: 0.5em;}#sk-container-id-21 div.sk-estimator:hover {background-color: #d4ebff;}#sk-container-id-21 div.sk-parallel-item::after {content: \"\";width: 100%;border-bottom: 1px solid gray;flex-grow: 1;}#sk-container-id-21 div.sk-label:hover label.sk-toggleable__label {background-color: #d4ebff;}#sk-container-id-21 div.sk-serial::before {content: \"\";position: absolute;border-left: 1px solid gray;box-sizing: border-box;top: 0;bottom: 0;left: 50%;z-index: 0;}#sk-container-id-21 div.sk-serial {display: flex;flex-direction: column;align-items: center;background-color: white;padding-right: 0.2em;padding-left: 0.2em;position: relative;}#sk-container-id-21 div.sk-item {position: relative;z-index: 1;}#sk-container-id-21 div.sk-parallel {display: flex;align-items: stretch;justify-content: center;background-color: white;position: relative;}#sk-container-id-21 div.sk-item::before, #sk-container-id-21 div.sk-parallel-item::before {content: \"\";position: absolute;border-left: 1px solid gray;box-sizing: border-box;top: 0;bottom: 0;left: 50%;z-index: -1;}#sk-container-id-21 div.sk-parallel-item {display: flex;flex-direction: column;z-index: 1;position: relative;background-color: white;}#sk-container-id-21 div.sk-parallel-item:first-child::after {align-self: flex-end;width: 50%;}#sk-container-id-21 div.sk-parallel-item:last-child::after {align-self: flex-start;width: 50%;}#sk-container-id-21 div.sk-parallel-item:only-child::after {width: 0;}#sk-container-id-21 div.sk-dashed-wrapped {border: 1px dashed gray;margin: 0 0.4em 0.5em 0.4em;box-sizing: border-box;padding-bottom: 0.4em;background-color: white;}#sk-container-id-21 div.sk-label label {font-family: monospace;font-weight: bold;display: inline-block;line-height: 1.2em;}#sk-container-id-21 div.sk-label-container {text-align: center;}#sk-container-id-21 div.sk-container {/* jupyter's `normalize.less` sets `[hidden] { display: none; }` but bootstrap.min.css set `[hidden] { display: none !important; }` so we also need the `!important` here to be able to override the default hidden behavior on the sphinx rendered scikit-learn.org. See: https://github.com/scikit-learn/scikit-learn/issues/21755 */display: inline-block !important;position: relative;}#sk-container-id-21 div.sk-text-repr-fallback {display: none;}</style><div id=\"sk-container-id-21\" class=\"sk-top-container\"><div class=\"sk-text-repr-fallback\"><pre>XGBClassifier(base_score=None, booster=None, callbacks=None,\n",
       "              colsample_bylevel=None, colsample_bynode=None,\n",
       "              colsample_bytree=None, early_stopping_rounds=None,\n",
       "              enable_categorical=False, eval_metric=None, feature_types=None,\n",
       "              gamma=None, gpu_id=None, grow_policy=None, importance_type=None,\n",
       "              interaction_constraints=None, learning_rate=0.1, max_bin=None,\n",
       "              max_cat_threshold=None, max_cat_to_onehot=None,\n",
       "              max_delta_step=None, max_depth=None, max_leaves=None,\n",
       "              min_child_weight=None, missing=nan, monotone_constraints=None,\n",
       "              n_estimators=100, n_jobs=-1, num_parallel_tree=None,\n",
       "              predictor=None, random_state=44, ...)</pre><b>In a Jupyter environment, please rerun this cell to show the HTML representation or trust the notebook. <br />On GitHub, the HTML representation is unable to render, please try loading this page with nbviewer.org.</b></div><div class=\"sk-container\" hidden><div class=\"sk-item\"><div class=\"sk-estimator sk-toggleable\"><input class=\"sk-toggleable__control sk-hidden--visually\" id=\"sk-estimator-id-21\" type=\"checkbox\" checked><label for=\"sk-estimator-id-21\" class=\"sk-toggleable__label sk-toggleable__label-arrow\">XGBClassifier</label><div class=\"sk-toggleable__content\"><pre>XGBClassifier(base_score=None, booster=None, callbacks=None,\n",
       "              colsample_bylevel=None, colsample_bynode=None,\n",
       "              colsample_bytree=None, early_stopping_rounds=None,\n",
       "              enable_categorical=False, eval_metric=None, feature_types=None,\n",
       "              gamma=None, gpu_id=None, grow_policy=None, importance_type=None,\n",
       "              interaction_constraints=None, learning_rate=0.1, max_bin=None,\n",
       "              max_cat_threshold=None, max_cat_to_onehot=None,\n",
       "              max_delta_step=None, max_depth=None, max_leaves=None,\n",
       "              min_child_weight=None, missing=nan, monotone_constraints=None,\n",
       "              n_estimators=100, n_jobs=-1, num_parallel_tree=None,\n",
       "              predictor=None, random_state=44, ...)</pre></div></div></div></div></div>"
      ],
      "text/plain": [
       "XGBClassifier(base_score=None, booster=None, callbacks=None,\n",
       "              colsample_bylevel=None, colsample_bynode=None,\n",
       "              colsample_bytree=None, early_stopping_rounds=None,\n",
       "              enable_categorical=False, eval_metric=None, feature_types=None,\n",
       "              gamma=None, gpu_id=None, grow_policy=None, importance_type=None,\n",
       "              interaction_constraints=None, learning_rate=0.1, max_bin=None,\n",
       "              max_cat_threshold=None, max_cat_to_onehot=None,\n",
       "              max_delta_step=None, max_depth=None, max_leaves=None,\n",
       "              min_child_weight=None, missing=nan, monotone_constraints=None,\n",
       "              n_estimators=100, n_jobs=-1, num_parallel_tree=None,\n",
       "              predictor=None, random_state=44, ...)"
      ]
     },
     "execution_count": 147,
     "metadata": {},
     "output_type": "execute_result"
    }
   ],
   "source": [
    "from xgboost import XGBClassifier\n",
    "from sklearn import metrics\n",
    "\n",
    "model_xgb = XGBClassifier(n_estimators=100, learning_rate=0.1, n_jobs=-1, random_state=44)\n",
    "model_xgb.fit(X_train_anova, y_train)"
   ]
  },
  {
   "cell_type": "code",
   "execution_count": 148,
   "metadata": {},
   "outputs": [
    {
     "data": {
      "text/plain": [
       "20"
      ]
     },
     "execution_count": 148,
     "metadata": {},
     "output_type": "execute_result"
    }
   ],
   "source": [
    "X_train_anova.shape[1]"
   ]
  },
  {
   "cell_type": "code",
   "execution_count": 149,
   "metadata": {},
   "outputs": [
    {
     "data": {
      "text/plain": [
       "0.9044073001738792"
      ]
     },
     "execution_count": 149,
     "metadata": {},
     "output_type": "execute_result"
    }
   ],
   "source": [
    "y_preds = model_xgb.predict_proba(X_train_anova)[:,1]\n",
    "metrics.roc_auc_score(y_train, y_preds)"
   ]
  },
  {
   "cell_type": "code",
   "execution_count": 150,
   "metadata": {},
   "outputs": [
    {
     "data": {
      "text/plain": [
       "0.8199143755775411"
      ]
     },
     "execution_count": 150,
     "metadata": {},
     "output_type": "execute_result"
    }
   ],
   "source": [
    "y_preds = model_xgb.predict_proba(X_test_anova)[:,1]\n",
    "metrics.roc_auc_score(y_test, y_preds)"
   ]
  },
  {
   "cell_type": "code",
   "execution_count": 116,
   "metadata": {},
   "outputs": [],
   "source": [
    "# Get feature importances\n",
    "feature_importances = model_xgb.feature_importances_\n",
    "\n",
    "# Create a DataFrame to display feature importances\n",
    "importance_df = pd.DataFrame({'Feature': X_train_anova.columns, 'Importance': feature_importances})\n",
    "importance_df = importance_df.sort_values(by='Importance', ascending=False)\n",
    "keep_features = importance_df['Feature'][:20].tolist()"
   ]
  },
  {
   "cell_type": "code",
   "execution_count": 117,
   "metadata": {},
   "outputs": [
    {
     "name": "stderr",
     "output_type": "stream",
     "text": [
      "/var/folders/5d/4vzdwckn4fqgnfhszkpm8mzm0000gn/T/ipykernel_43514/3811069880.py:1: MatplotlibDeprecationWarning: The seaborn styles shipped by Matplotlib are deprecated since 3.6, as they no longer correspond to the styles shipped by seaborn. However, they will remain available as 'seaborn-v0_8-<style>'. Alternatively, directly use the seaborn API instead.\n",
      "  plt.style.use('seaborn')\n"
     ]
    },
    {
     "data": {
      "image/png": "[encoded data removed]",
      "text/plain": [
       "<Figure size 800x550 with 1 Axes>"
      ]
     },
     "metadata": {},
     "output_type": "display_data"
    }
   ],
   "source": [
    "plt.style.use('seaborn')\n",
    "importance_df[:30].plot(kind='barh');"
   ]
  },
  {
   "cell_type": "code",
   "execution_count": 157,
   "metadata": {},
   "outputs": [
    {
     "name": "stderr",
     "output_type": "stream",
     "text": [
      "/Users/oliverdreger/opt/anaconda3/envs/ml2023/lib/python3.11/site-packages/sklearn/cluster/_kmeans.py:1412: FutureWarning: The default value of `n_init` will change from 10 to 'auto' in 1.4. Set the value of `n_init` explicitly to suppress the warning\n",
      "  super()._check_params_vs_input(X, default_n_init=10)\n"
     ]
    }
   ],
   "source": [
    "from sklearn.cluster import KMeans \n",
    "\n",
    "# Perform K-Means clustering\n",
    "n_clusters = 15  # Choose an appropriate number of clusters\n",
    "kmeans = KMeans(n_clusters=n_clusters, random_state=42)\n",
    "\n",
    "scaler = StandardScaler()\n",
    "X_train_scaled = scaler.fit_transform(X_train)\n",
    "X_train_scaled = pd.DataFrame(X_train_scaled,columns=X_train.columns)\n",
    "X_test_scaled = scaler.transform(X_test)\n",
    "X_test_scaled = pd.DataFrame(X_test_scaled,columns=X_test.columns)\n",
    "df_transposed = X_train_scaled.T\n",
    "\n",
    "cluster_labels = kmeans.fit_predict(df_transposed)"
   ]
  },
  {
   "cell_type": "code",
   "execution_count": 30,
   "metadata": {},
   "outputs": [
    {
     "data": {
      "text/html": [
       "<div>\n",
       "<style scoped>\n",
       "    .dataframe tbody tr th:only-of-type {\n",
       "        vertical-align: middle;\n",
       "    }\n",
       "\n",
       "    .dataframe tbody tr th {\n",
       "        vertical-align: top;\n",
       "    }\n",
       "\n",
       "    .dataframe thead th {\n",
       "        text-align: right;\n",
       "    }\n",
       "</style>\n",
       "<table border=\"1\" class=\"dataframe\">\n",
       "  <thead>\n",
       "    <tr style=\"text-align: right;\">\n",
       "      <th></th>\n",
       "      <th>0</th>\n",
       "      <th>1</th>\n",
       "      <th>2</th>\n",
       "      <th>3</th>\n",
       "      <th>4</th>\n",
       "      <th>5</th>\n",
       "      <th>6</th>\n",
       "      <th>7</th>\n",
       "      <th>8</th>\n",
       "      <th>9</th>\n",
       "      <th>...</th>\n",
       "      <th>34990</th>\n",
       "      <th>34991</th>\n",
       "      <th>34992</th>\n",
       "      <th>34993</th>\n",
       "      <th>34994</th>\n",
       "      <th>34995</th>\n",
       "      <th>34996</th>\n",
       "      <th>34997</th>\n",
       "      <th>34998</th>\n",
       "      <th>34999</th>\n",
       "    </tr>\n",
       "  </thead>\n",
       "  <tbody>\n",
       "    <tr>\n",
       "      <th>var_3</th>\n",
       "      <td>-0.010362</td>\n",
       "      <td>-0.010362</td>\n",
       "      <td>-0.010362</td>\n",
       "      <td>-0.010362</td>\n",
       "      <td>-0.010362</td>\n",
       "      <td>-0.010362</td>\n",
       "      <td>-0.010362</td>\n",
       "      <td>-0.010362</td>\n",
       "      <td>-0.010362</td>\n",
       "      <td>-0.010362</td>\n",
       "      <td>...</td>\n",
       "      <td>-0.010362</td>\n",
       "      <td>-0.010362</td>\n",
       "      <td>-0.010362</td>\n",
       "      <td>-0.010362</td>\n",
       "      <td>-0.010362</td>\n",
       "      <td>-0.010362</td>\n",
       "      <td>-0.010362</td>\n",
       "      <td>-0.010362</td>\n",
       "      <td>-0.010362</td>\n",
       "      <td>-0.010362</td>\n",
       "    </tr>\n",
       "    <tr>\n",
       "      <th>var_4</th>\n",
       "      <td>-0.133825</td>\n",
       "      <td>-0.068475</td>\n",
       "      <td>-1.146743</td>\n",
       "      <td>-0.133825</td>\n",
       "      <td>0.922660</td>\n",
       "      <td>-1.146743</td>\n",
       "      <td>-0.057584</td>\n",
       "      <td>-0.144717</td>\n",
       "      <td>-1.146743</td>\n",
       "      <td>-0.133825</td>\n",
       "      <td>...</td>\n",
       "      <td>-1.146743</td>\n",
       "      <td>-0.155608</td>\n",
       "      <td>-0.155608</td>\n",
       "      <td>-0.112042</td>\n",
       "      <td>-0.068475</td>\n",
       "      <td>-1.146743</td>\n",
       "      <td>1.859337</td>\n",
       "      <td>0.900876</td>\n",
       "      <td>-0.057584</td>\n",
       "      <td>0.988009</td>\n",
       "    </tr>\n",
       "    <tr>\n",
       "      <th>var_5</th>\n",
       "      <td>-0.055257</td>\n",
       "      <td>-0.055257</td>\n",
       "      <td>-0.055257</td>\n",
       "      <td>7.871081</td>\n",
       "      <td>-0.055257</td>\n",
       "      <td>-0.055257</td>\n",
       "      <td>-0.055257</td>\n",
       "      <td>-0.055257</td>\n",
       "      <td>-0.055257</td>\n",
       "      <td>-0.055257</td>\n",
       "      <td>...</td>\n",
       "      <td>-0.055257</td>\n",
       "      <td>-0.055257</td>\n",
       "      <td>-0.055257</td>\n",
       "      <td>-0.055257</td>\n",
       "      <td>-0.055257</td>\n",
       "      <td>-0.055257</td>\n",
       "      <td>-0.055257</td>\n",
       "      <td>-0.055257</td>\n",
       "      <td>-0.055257</td>\n",
       "      <td>-0.055257</td>\n",
       "    </tr>\n",
       "    <tr>\n",
       "      <th>var_6</th>\n",
       "      <td>-0.007560</td>\n",
       "      <td>-0.007560</td>\n",
       "      <td>-0.007560</td>\n",
       "      <td>-0.007560</td>\n",
       "      <td>-0.007560</td>\n",
       "      <td>-0.007560</td>\n",
       "      <td>-0.007560</td>\n",
       "      <td>-0.007560</td>\n",
       "      <td>-0.007560</td>\n",
       "      <td>-0.007560</td>\n",
       "      <td>...</td>\n",
       "      <td>-0.007560</td>\n",
       "      <td>-0.007560</td>\n",
       "      <td>-0.007560</td>\n",
       "      <td>-0.007560</td>\n",
       "      <td>-0.007560</td>\n",
       "      <td>-0.007560</td>\n",
       "      <td>-0.007560</td>\n",
       "      <td>-0.007560</td>\n",
       "      <td>-0.007560</td>\n",
       "      <td>-0.007560</td>\n",
       "    </tr>\n",
       "    <tr>\n",
       "      <th>var_8</th>\n",
       "      <td>-0.111135</td>\n",
       "      <td>-0.111135</td>\n",
       "      <td>-0.111135</td>\n",
       "      <td>-0.111135</td>\n",
       "      <td>-0.111135</td>\n",
       "      <td>-0.111135</td>\n",
       "      <td>-0.111135</td>\n",
       "      <td>-0.111135</td>\n",
       "      <td>-0.111135</td>\n",
       "      <td>-0.111135</td>\n",
       "      <td>...</td>\n",
       "      <td>-0.111135</td>\n",
       "      <td>-0.111135</td>\n",
       "      <td>-0.111135</td>\n",
       "      <td>-0.111135</td>\n",
       "      <td>-0.111135</td>\n",
       "      <td>-0.111135</td>\n",
       "      <td>-0.111135</td>\n",
       "      <td>-0.111135</td>\n",
       "      <td>-0.111135</td>\n",
       "      <td>-0.111135</td>\n",
       "    </tr>\n",
       "  </tbody>\n",
       "</table>\n",
       "<p>5 rows × 35000 columns</p>\n",
       "</div>"
      ],
      "text/plain": [
       "          0         1         2         3         4         5         6      \\\n",
       "var_3 -0.010362 -0.010362 -0.010362 -0.010362 -0.010362 -0.010362 -0.010362   \n",
       "var_4 -0.133825 -0.068475 -1.146743 -0.133825  0.922660 -1.146743 -0.057584   \n",
       "var_5 -0.055257 -0.055257 -0.055257  7.871081 -0.055257 -0.055257 -0.055257   \n",
       "var_6 -0.007560 -0.007560 -0.007560 -0.007560 -0.007560 -0.007560 -0.007560   \n",
       "var_8 -0.111135 -0.111135 -0.111135 -0.111135 -0.111135 -0.111135 -0.111135   \n",
       "\n",
       "          7         8         9      ...     34990     34991     34992  \\\n",
       "var_3 -0.010362 -0.010362 -0.010362  ... -0.010362 -0.010362 -0.010362   \n",
       "var_4 -0.144717 -1.146743 -0.133825  ... -1.146743 -0.155608 -0.155608   \n",
       "var_5 -0.055257 -0.055257 -0.055257  ... -0.055257 -0.055257 -0.055257   \n",
       "var_6 -0.007560 -0.007560 -0.007560  ... -0.007560 -0.007560 -0.007560   \n",
       "var_8 -0.111135 -0.111135 -0.111135  ... -0.111135 -0.111135 -0.111135   \n",
       "\n",
       "          34993     34994     34995     34996     34997     34998     34999  \n",
       "var_3 -0.010362 -0.010362 -0.010362 -0.010362 -0.010362 -0.010362 -0.010362  \n",
       "var_4 -0.112042 -0.068475 -1.146743  1.859337  0.900876 -0.057584  0.988009  \n",
       "var_5 -0.055257 -0.055257 -0.055257 -0.055257 -0.055257 -0.055257 -0.055257  \n",
       "var_6 -0.007560 -0.007560 -0.007560 -0.007560 -0.007560 -0.007560 -0.007560  \n",
       "var_8 -0.111135 -0.111135 -0.111135 -0.111135 -0.111135 -0.111135 -0.111135  \n",
       "\n",
       "[5 rows x 35000 columns]"
      ]
     },
     "execution_count": 30,
     "metadata": {},
     "output_type": "execute_result"
    }
   ],
   "source": [
    "df_transposed.head(5)"
   ]
  },
  {
   "cell_type": "code",
   "execution_count": 31,
   "metadata": {},
   "outputs": [
    {
     "data": {
      "text/plain": [
       "array([ 3,  4,  7,  5,  8,  5,  6,  8, 10,  3,  0,  9, 11, 13,  2,  3,  7,\n",
       "        8,  1, 10,  0, 10,  8, 12, 14,  9,  0,  2,  4,  5, 13, 14,  2, 12,\n",
       "        6,  1, 14,  4,  0,  3,  6,  1, 10,  6, 10, 13, 14,  2,  2, 14,  6,\n",
       "        4,  8,  9,  2,  4,  8,  4,  3,  7,  6,  0,  5,  3,  4,  8,  2,  5,\n",
       "        8,  6,  6, 11,  8,  3, 13,  5,  5,  1,  0,  2,  9,  0, 14, 14,  0,\n",
       "        7, 12,  8, 11,  9,  6, 14,  9,  4, 12,  6, 13, 13,  3, 12,  2,  1,\n",
       "        2, 13,  2,  4,  9,  4,  6,  6,  4,  6], dtype=int32)"
      ]
     },
     "execution_count": 31,
     "metadata": {},
     "output_type": "execute_result"
    }
   ],
   "source": [
    "cluster_labels"
   ]
  },
  {
   "cell_type": "code",
   "execution_count": 32,
   "metadata": {},
   "outputs": [
    {
     "data": {
      "text/html": [
       "<div>\n",
       "<style scoped>\n",
       "    .dataframe tbody tr th:only-of-type {\n",
       "        vertical-align: middle;\n",
       "    }\n",
       "\n",
       "    .dataframe tbody tr th {\n",
       "        vertical-align: top;\n",
       "    }\n",
       "\n",
       "    .dataframe thead th {\n",
       "        text-align: right;\n",
       "    }\n",
       "</style>\n",
       "<table border=\"1\" class=\"dataframe\">\n",
       "  <thead>\n",
       "    <tr style=\"text-align: right;\">\n",
       "      <th></th>\n",
       "      <th>0</th>\n",
       "      <th>1</th>\n",
       "      <th>2</th>\n",
       "      <th>3</th>\n",
       "      <th>4</th>\n",
       "      <th>5</th>\n",
       "      <th>6</th>\n",
       "      <th>7</th>\n",
       "      <th>8</th>\n",
       "      <th>9</th>\n",
       "      <th>...</th>\n",
       "      <th>34991</th>\n",
       "      <th>34992</th>\n",
       "      <th>34993</th>\n",
       "      <th>34994</th>\n",
       "      <th>34995</th>\n",
       "      <th>34996</th>\n",
       "      <th>34997</th>\n",
       "      <th>34998</th>\n",
       "      <th>34999</th>\n",
       "      <th>cluster</th>\n",
       "    </tr>\n",
       "  </thead>\n",
       "  <tbody>\n",
       "    <tr>\n",
       "      <th>var_3</th>\n",
       "      <td>-0.010362</td>\n",
       "      <td>-0.010362</td>\n",
       "      <td>-0.010362</td>\n",
       "      <td>-0.010362</td>\n",
       "      <td>-0.010362</td>\n",
       "      <td>-0.010362</td>\n",
       "      <td>-0.010362</td>\n",
       "      <td>-0.010362</td>\n",
       "      <td>-0.010362</td>\n",
       "      <td>-0.010362</td>\n",
       "      <td>...</td>\n",
       "      <td>-0.010362</td>\n",
       "      <td>-0.010362</td>\n",
       "      <td>-0.010362</td>\n",
       "      <td>-0.010362</td>\n",
       "      <td>-0.010362</td>\n",
       "      <td>-0.010362</td>\n",
       "      <td>-0.010362</td>\n",
       "      <td>-0.010362</td>\n",
       "      <td>-0.010362</td>\n",
       "      <td>3</td>\n",
       "    </tr>\n",
       "    <tr>\n",
       "      <th>var_4</th>\n",
       "      <td>-0.133825</td>\n",
       "      <td>-0.068475</td>\n",
       "      <td>-1.146743</td>\n",
       "      <td>-0.133825</td>\n",
       "      <td>0.922660</td>\n",
       "      <td>-1.146743</td>\n",
       "      <td>-0.057584</td>\n",
       "      <td>-0.144717</td>\n",
       "      <td>-1.146743</td>\n",
       "      <td>-0.133825</td>\n",
       "      <td>...</td>\n",
       "      <td>-0.155608</td>\n",
       "      <td>-0.155608</td>\n",
       "      <td>-0.112042</td>\n",
       "      <td>-0.068475</td>\n",
       "      <td>-1.146743</td>\n",
       "      <td>1.859337</td>\n",
       "      <td>0.900876</td>\n",
       "      <td>-0.057584</td>\n",
       "      <td>0.988009</td>\n",
       "      <td>4</td>\n",
       "    </tr>\n",
       "    <tr>\n",
       "      <th>var_5</th>\n",
       "      <td>-0.055257</td>\n",
       "      <td>-0.055257</td>\n",
       "      <td>-0.055257</td>\n",
       "      <td>7.871081</td>\n",
       "      <td>-0.055257</td>\n",
       "      <td>-0.055257</td>\n",
       "      <td>-0.055257</td>\n",
       "      <td>-0.055257</td>\n",
       "      <td>-0.055257</td>\n",
       "      <td>-0.055257</td>\n",
       "      <td>...</td>\n",
       "      <td>-0.055257</td>\n",
       "      <td>-0.055257</td>\n",
       "      <td>-0.055257</td>\n",
       "      <td>-0.055257</td>\n",
       "      <td>-0.055257</td>\n",
       "      <td>-0.055257</td>\n",
       "      <td>-0.055257</td>\n",
       "      <td>-0.055257</td>\n",
       "      <td>-0.055257</td>\n",
       "      <td>7</td>\n",
       "    </tr>\n",
       "    <tr>\n",
       "      <th>var_6</th>\n",
       "      <td>-0.007560</td>\n",
       "      <td>-0.007560</td>\n",
       "      <td>-0.007560</td>\n",
       "      <td>-0.007560</td>\n",
       "      <td>-0.007560</td>\n",
       "      <td>-0.007560</td>\n",
       "      <td>-0.007560</td>\n",
       "      <td>-0.007560</td>\n",
       "      <td>-0.007560</td>\n",
       "      <td>-0.007560</td>\n",
       "      <td>...</td>\n",
       "      <td>-0.007560</td>\n",
       "      <td>-0.007560</td>\n",
       "      <td>-0.007560</td>\n",
       "      <td>-0.007560</td>\n",
       "      <td>-0.007560</td>\n",
       "      <td>-0.007560</td>\n",
       "      <td>-0.007560</td>\n",
       "      <td>-0.007560</td>\n",
       "      <td>-0.007560</td>\n",
       "      <td>5</td>\n",
       "    </tr>\n",
       "    <tr>\n",
       "      <th>var_8</th>\n",
       "      <td>-0.111135</td>\n",
       "      <td>-0.111135</td>\n",
       "      <td>-0.111135</td>\n",
       "      <td>-0.111135</td>\n",
       "      <td>-0.111135</td>\n",
       "      <td>-0.111135</td>\n",
       "      <td>-0.111135</td>\n",
       "      <td>-0.111135</td>\n",
       "      <td>-0.111135</td>\n",
       "      <td>-0.111135</td>\n",
       "      <td>...</td>\n",
       "      <td>-0.111135</td>\n",
       "      <td>-0.111135</td>\n",
       "      <td>-0.111135</td>\n",
       "      <td>-0.111135</td>\n",
       "      <td>-0.111135</td>\n",
       "      <td>-0.111135</td>\n",
       "      <td>-0.111135</td>\n",
       "      <td>-0.111135</td>\n",
       "      <td>-0.111135</td>\n",
       "      <td>8</td>\n",
       "    </tr>\n",
       "  </tbody>\n",
       "</table>\n",
       "<p>5 rows × 35001 columns</p>\n",
       "</div>"
      ],
      "text/plain": [
       "              0         1         2         3         4         5         6  \\\n",
       "var_3 -0.010362 -0.010362 -0.010362 -0.010362 -0.010362 -0.010362 -0.010362   \n",
       "var_4 -0.133825 -0.068475 -1.146743 -0.133825  0.922660 -1.146743 -0.057584   \n",
       "var_5 -0.055257 -0.055257 -0.055257  7.871081 -0.055257 -0.055257 -0.055257   \n",
       "var_6 -0.007560 -0.007560 -0.007560 -0.007560 -0.007560 -0.007560 -0.007560   \n",
       "var_8 -0.111135 -0.111135 -0.111135 -0.111135 -0.111135 -0.111135 -0.111135   \n",
       "\n",
       "              7         8         9  ...     34991     34992     34993  \\\n",
       "var_3 -0.010362 -0.010362 -0.010362  ... -0.010362 -0.010362 -0.010362   \n",
       "var_4 -0.144717 -1.146743 -0.133825  ... -0.155608 -0.155608 -0.112042   \n",
       "var_5 -0.055257 -0.055257 -0.055257  ... -0.055257 -0.055257 -0.055257   \n",
       "var_6 -0.007560 -0.007560 -0.007560  ... -0.007560 -0.007560 -0.007560   \n",
       "var_8 -0.111135 -0.111135 -0.111135  ... -0.111135 -0.111135 -0.111135   \n",
       "\n",
       "          34994     34995     34996     34997     34998     34999  cluster  \n",
       "var_3 -0.010362 -0.010362 -0.010362 -0.010362 -0.010362 -0.010362        3  \n",
       "var_4 -0.068475 -1.146743  1.859337  0.900876 -0.057584  0.988009        4  \n",
       "var_5 -0.055257 -0.055257 -0.055257 -0.055257 -0.055257 -0.055257        7  \n",
       "var_6 -0.007560 -0.007560 -0.007560 -0.007560 -0.007560 -0.007560        5  \n",
       "var_8 -0.111135 -0.111135 -0.111135 -0.111135 -0.111135 -0.111135        8  \n",
       "\n",
       "[5 rows x 35001 columns]"
      ]
     },
     "execution_count": 32,
     "metadata": {},
     "output_type": "execute_result"
    }
   ],
   "source": [
    "# Add cluster labels to the original DataFrame\n",
    "df_transposed['cluster'] = cluster_labels\n",
    "df_transposed.head(5)"
   ]
  },
  {
   "cell_type": "code",
   "execution_count": 33,
   "metadata": {},
   "outputs": [
    {
     "name": "stdout",
     "output_type": "stream",
     "text": [
      "[13:33:18] WARNING: /Users/runner/miniforge3/conda-bld/xgboost-split_1679035096581/work/src/learner.cc:767: \n",
      "Parameters: { \"n_estimator\" } are not used.\n",
      "\n"
     ]
    },
    {
     "data": {
      "text/html": [
       "<style>#sk-container-id-1 {color: black;}#sk-container-id-1 pre{padding: 0;}#sk-container-id-1 div.sk-toggleable {background-color: white;}#sk-container-id-1 label.sk-toggleable__label {cursor: pointer;display: block;width: 100%;margin-bottom: 0;padding: 0.3em;box-sizing: border-box;text-align: center;}#sk-container-id-1 label.sk-toggleable__label-arrow:before {content: \"▸\";float: left;margin-right: 0.25em;color: #696969;}#sk-container-id-1 label.sk-toggleable__label-arrow:hover:before {color: black;}#sk-container-id-1 div.sk-estimator:hover label.sk-toggleable__label-arrow:before {color: black;}#sk-container-id-1 div.sk-toggleable__content {max-height: 0;max-width: 0;overflow: hidden;text-align: left;background-color: #f0f8ff;}#sk-container-id-1 div.sk-toggleable__content pre {margin: 0.2em;color: black;border-radius: 0.25em;background-color: #f0f8ff;}#sk-container-id-1 input.sk-toggleable__control:checked~div.sk-toggleable__content {max-height: 200px;max-width: 100%;overflow: auto;}#sk-container-id-1 input.sk-toggleable__control:checked~label.sk-toggleable__label-arrow:before {content: \"▾\";}#sk-container-id-1 div.sk-estimator input.sk-toggleable__control:checked~label.sk-toggleable__label {background-color: #d4ebff;}#sk-container-id-1 div.sk-label input.sk-toggleable__control:checked~label.sk-toggleable__label {background-color: #d4ebff;}#sk-container-id-1 input.sk-hidden--visually {border: 0;clip: rect(1px 1px 1px 1px);clip: rect(1px, 1px, 1px, 1px);height: 1px;margin: -1px;overflow: hidden;padding: 0;position: absolute;width: 1px;}#sk-container-id-1 div.sk-estimator {font-family: monospace;background-color: #f0f8ff;border: 1px dotted black;border-radius: 0.25em;box-sizing: border-box;margin-bottom: 0.5em;}#sk-container-id-1 div.sk-estimator:hover {background-color: #d4ebff;}#sk-container-id-1 div.sk-parallel-item::after {content: \"\";width: 100%;border-bottom: 1px solid gray;flex-grow: 1;}#sk-container-id-1 div.sk-label:hover label.sk-toggleable__label {background-color: #d4ebff;}#sk-container-id-1 div.sk-serial::before {content: \"\";position: absolute;border-left: 1px solid gray;box-sizing: border-box;top: 0;bottom: 0;left: 50%;z-index: 0;}#sk-container-id-1 div.sk-serial {display: flex;flex-direction: column;align-items: center;background-color: white;padding-right: 0.2em;padding-left: 0.2em;position: relative;}#sk-container-id-1 div.sk-item {position: relative;z-index: 1;}#sk-container-id-1 div.sk-parallel {display: flex;align-items: stretch;justify-content: center;background-color: white;position: relative;}#sk-container-id-1 div.sk-item::before, #sk-container-id-1 div.sk-parallel-item::before {content: \"\";position: absolute;border-left: 1px solid gray;box-sizing: border-box;top: 0;bottom: 0;left: 50%;z-index: -1;}#sk-container-id-1 div.sk-parallel-item {display: flex;flex-direction: column;z-index: 1;position: relative;background-color: white;}#sk-container-id-1 div.sk-parallel-item:first-child::after {align-self: flex-end;width: 50%;}#sk-container-id-1 div.sk-parallel-item:last-child::after {align-self: flex-start;width: 50%;}#sk-container-id-1 div.sk-parallel-item:only-child::after {width: 0;}#sk-container-id-1 div.sk-dashed-wrapped {border: 1px dashed gray;margin: 0 0.4em 0.5em 0.4em;box-sizing: border-box;padding-bottom: 0.4em;background-color: white;}#sk-container-id-1 div.sk-label label {font-family: monospace;font-weight: bold;display: inline-block;line-height: 1.2em;}#sk-container-id-1 div.sk-label-container {text-align: center;}#sk-container-id-1 div.sk-container {/* jupyter's `normalize.less` sets `[hidden] { display: none; }` but bootstrap.min.css set `[hidden] { display: none !important; }` so we also need the `!important` here to be able to override the default hidden behavior on the sphinx rendered scikit-learn.org. See: https://github.com/scikit-learn/scikit-learn/issues/21755 */display: inline-block !important;position: relative;}#sk-container-id-1 div.sk-text-repr-fallback {display: none;}</style><div id=\"sk-container-id-1\" class=\"sk-top-container\"><div class=\"sk-text-repr-fallback\"><pre>XGBClassifier(base_score=None, booster=None, callbacks=None,\n",
       "              colsample_bylevel=None, colsample_bynode=None,\n",
       "              colsample_bytree=None, early_stopping_rounds=None,\n",
       "              enable_categorical=False, eval_metric=None, feature_types=None,\n",
       "              gamma=None, gpu_id=None, grow_policy=None, importance_type=None,\n",
       "              interaction_constraints=None, learning_rate=0.1, max_bin=None,\n",
       "              max_cat_threshold=None, max_cat_to_onehot=None,\n",
       "              max_delta_step=None, max_depth=None, max_leaves=None,\n",
       "              min_child_weight=None, missing=nan, monotone_constraints=None,\n",
       "              n_estimator=300, n_estimators=100, n_jobs=-1,\n",
       "              num_parallel_tree=None, predictor=None, ...)</pre><b>In a Jupyter environment, please rerun this cell to show the HTML representation or trust the notebook. <br />On GitHub, the HTML representation is unable to render, please try loading this page with nbviewer.org.</b></div><div class=\"sk-container\" hidden><div class=\"sk-item\"><div class=\"sk-estimator sk-toggleable\"><input class=\"sk-toggleable__control sk-hidden--visually\" id=\"sk-estimator-id-1\" type=\"checkbox\" checked><label for=\"sk-estimator-id-1\" class=\"sk-toggleable__label sk-toggleable__label-arrow\">XGBClassifier</label><div class=\"sk-toggleable__content\"><pre>XGBClassifier(base_score=None, booster=None, callbacks=None,\n",
       "              colsample_bylevel=None, colsample_bynode=None,\n",
       "              colsample_bytree=None, early_stopping_rounds=None,\n",
       "              enable_categorical=False, eval_metric=None, feature_types=None,\n",
       "              gamma=None, gpu_id=None, grow_policy=None, importance_type=None,\n",
       "              interaction_constraints=None, learning_rate=0.1, max_bin=None,\n",
       "              max_cat_threshold=None, max_cat_to_onehot=None,\n",
       "              max_delta_step=None, max_depth=None, max_leaves=None,\n",
       "              min_child_weight=None, missing=nan, monotone_constraints=None,\n",
       "              n_estimator=300, n_estimators=100, n_jobs=-1,\n",
       "              num_parallel_tree=None, predictor=None, ...)</pre></div></div></div></div></div>"
      ],
      "text/plain": [
       "XGBClassifier(base_score=None, booster=None, callbacks=None,\n",
       "              colsample_bylevel=None, colsample_bynode=None,\n",
       "              colsample_bytree=None, early_stopping_rounds=None,\n",
       "              enable_categorical=False, eval_metric=None, feature_types=None,\n",
       "              gamma=None, gpu_id=None, grow_policy=None, importance_type=None,\n",
       "              interaction_constraints=None, learning_rate=0.1, max_bin=None,\n",
       "              max_cat_threshold=None, max_cat_to_onehot=None,\n",
       "              max_delta_step=None, max_depth=None, max_leaves=None,\n",
       "              min_child_weight=None, missing=nan, monotone_constraints=None,\n",
       "              n_estimator=300, n_estimators=100, n_jobs=-1,\n",
       "              num_parallel_tree=None, predictor=None, ...)"
      ]
     },
     "execution_count": 33,
     "metadata": {},
     "output_type": "execute_result"
    }
   ],
   "source": [
    "from xgboost import XGBClassifier\n",
    "from sklearn import metrics\n",
    "\n",
    "model_xgb = XGBClassifier(n_estimator=300, learning_rate=0.1, n_jobs=-1, random_state=44)\n",
    "model_xgb.fit(X_train, y_train)"
   ]
  },
  {
   "cell_type": "code",
   "execution_count": 34,
   "metadata": {},
   "outputs": [
    {
     "data": {
      "text/html": [
       "<div>\n",
       "<style scoped>\n",
       "    .dataframe tbody tr th:only-of-type {\n",
       "        vertical-align: middle;\n",
       "    }\n",
       "\n",
       "    .dataframe tbody tr th {\n",
       "        vertical-align: top;\n",
       "    }\n",
       "\n",
       "    .dataframe thead th {\n",
       "        text-align: right;\n",
       "    }\n",
       "</style>\n",
       "<table border=\"1\" class=\"dataframe\">\n",
       "  <thead>\n",
       "    <tr style=\"text-align: right;\">\n",
       "      <th></th>\n",
       "      <th>features</th>\n",
       "      <th>importance</th>\n",
       "    </tr>\n",
       "    <tr>\n",
       "      <th>features</th>\n",
       "      <th></th>\n",
       "      <th></th>\n",
       "    </tr>\n",
       "  </thead>\n",
       "  <tbody>\n",
       "    <tr>\n",
       "      <th>var_3</th>\n",
       "      <td>var_3</td>\n",
       "      <td>0.000000</td>\n",
       "    </tr>\n",
       "    <tr>\n",
       "      <th>var_4</th>\n",
       "      <td>var_4</td>\n",
       "      <td>0.015630</td>\n",
       "    </tr>\n",
       "    <tr>\n",
       "      <th>var_5</th>\n",
       "      <td>var_5</td>\n",
       "      <td>0.014781</td>\n",
       "    </tr>\n",
       "    <tr>\n",
       "      <th>var_6</th>\n",
       "      <td>var_6</td>\n",
       "      <td>0.000000</td>\n",
       "    </tr>\n",
       "    <tr>\n",
       "      <th>var_8</th>\n",
       "      <td>var_8</td>\n",
       "      <td>0.009481</td>\n",
       "    </tr>\n",
       "    <tr>\n",
       "      <th>...</th>\n",
       "      <td>...</td>\n",
       "      <td>...</td>\n",
       "    </tr>\n",
       "    <tr>\n",
       "      <th>var_271</th>\n",
       "      <td>var_271</td>\n",
       "      <td>0.012203</td>\n",
       "    </tr>\n",
       "    <tr>\n",
       "      <th>var_276</th>\n",
       "      <td>var_276</td>\n",
       "      <td>0.016685</td>\n",
       "    </tr>\n",
       "    <tr>\n",
       "      <th>var_288</th>\n",
       "      <td>var_288</td>\n",
       "      <td>0.012777</td>\n",
       "    </tr>\n",
       "    <tr>\n",
       "      <th>var_292</th>\n",
       "      <td>var_292</td>\n",
       "      <td>0.004640</td>\n",
       "    </tr>\n",
       "    <tr>\n",
       "      <th>var_293</th>\n",
       "      <td>var_293</td>\n",
       "      <td>0.000000</td>\n",
       "    </tr>\n",
       "  </tbody>\n",
       "</table>\n",
       "<p>112 rows × 2 columns</p>\n",
       "</div>"
      ],
      "text/plain": [
       "         features  importance\n",
       "features                     \n",
       "var_3       var_3    0.000000\n",
       "var_4       var_4    0.015630\n",
       "var_5       var_5    0.014781\n",
       "var_6       var_6    0.000000\n",
       "var_8       var_8    0.009481\n",
       "...           ...         ...\n",
       "var_271   var_271    0.012203\n",
       "var_276   var_276    0.016685\n",
       "var_288   var_288    0.012777\n",
       "var_292   var_292    0.004640\n",
       "var_293   var_293    0.000000\n",
       "\n",
       "[112 rows x 2 columns]"
      ]
     },
     "execution_count": 34,
     "metadata": {},
     "output_type": "execute_result"
    }
   ],
   "source": [
    "df_feature_importances = pd.DataFrame({'features' : X_train.columns, 'importance' : model_xgb.feature_importances_})\n",
    "df_feature_importances.index = df_feature_importances['features']\n",
    "df_feature_importances"
   ]
  },
  {
   "cell_type": "code",
   "execution_count": 43,
   "metadata": {},
   "outputs": [
    {
     "data": {
      "text/html": [
       "<div>\n",
       "<style scoped>\n",
       "    .dataframe tbody tr th:only-of-type {\n",
       "        vertical-align: middle;\n",
       "    }\n",
       "\n",
       "    .dataframe tbody tr th {\n",
       "        vertical-align: top;\n",
       "    }\n",
       "\n",
       "    .dataframe thead th {\n",
       "        text-align: right;\n",
       "    }\n",
       "</style>\n",
       "<table border=\"1\" class=\"dataframe\">\n",
       "  <thead>\n",
       "    <tr style=\"text-align: right;\">\n",
       "      <th></th>\n",
       "      <th>feature</th>\n",
       "      <th>corr</th>\n",
       "    </tr>\n",
       "  </thead>\n",
       "  <tbody>\n",
       "    <tr>\n",
       "      <th>0</th>\n",
       "      <td>var_3</td>\n",
       "      <td>-0.002</td>\n",
       "    </tr>\n",
       "    <tr>\n",
       "      <th>1</th>\n",
       "      <td>var_4</td>\n",
       "      <td>0.003</td>\n",
       "    </tr>\n",
       "    <tr>\n",
       "      <th>2</th>\n",
       "      <td>var_5</td>\n",
       "      <td>-0.008</td>\n",
       "    </tr>\n",
       "    <tr>\n",
       "      <th>3</th>\n",
       "      <td>var_6</td>\n",
       "      <td>-0.002</td>\n",
       "    </tr>\n",
       "    <tr>\n",
       "      <th>4</th>\n",
       "      <td>var_8</td>\n",
       "      <td>0.005</td>\n",
       "    </tr>\n",
       "  </tbody>\n",
       "</table>\n",
       "</div>"
      ],
      "text/plain": [
       "  feature   corr\n",
       "0   var_3 -0.002\n",
       "1   var_4  0.003\n",
       "2   var_5 -0.008\n",
       "3   var_6 -0.002\n",
       "4   var_8  0.005"
      ]
     },
     "execution_count": 43,
     "metadata": {},
     "output_type": "execute_result"
    }
   ],
   "source": [
    "# Find correlation between features and credit score\n",
    "correlations = []\n",
    "features = []\n",
    "for col in X_train_scaled.columns:\n",
    "    corr = X_train_scaled[col].corr(y_train)\n",
    "    corr = round(corr, 3)\n",
    "    correlations.append(corr)\n",
    "    features.append(col)\n",
    "\n",
    "df_correlations = pd.DataFrame({'feature' : features, 'corr' : correlations})\n",
    "df_correlations.head()"
   ]
  },
  {
   "cell_type": "code",
   "execution_count": 44,
   "metadata": {},
   "outputs": [
    {
     "data": {
      "text/html": [
       "<div>\n",
       "<style scoped>\n",
       "    .dataframe tbody tr th:only-of-type {\n",
       "        vertical-align: middle;\n",
       "    }\n",
       "\n",
       "    .dataframe tbody tr th {\n",
       "        vertical-align: top;\n",
       "    }\n",
       "\n",
       "    .dataframe thead th {\n",
       "        text-align: right;\n",
       "    }\n",
       "</style>\n",
       "<table border=\"1\" class=\"dataframe\">\n",
       "  <thead>\n",
       "    <tr style=\"text-align: right;\">\n",
       "      <th></th>\n",
       "      <th>feature</th>\n",
       "      <th>corr</th>\n",
       "    </tr>\n",
       "    <tr>\n",
       "      <th>feature</th>\n",
       "      <th></th>\n",
       "      <th></th>\n",
       "    </tr>\n",
       "  </thead>\n",
       "  <tbody>\n",
       "    <tr>\n",
       "      <th>var_3</th>\n",
       "      <td>var_3</td>\n",
       "      <td>-0.002</td>\n",
       "    </tr>\n",
       "    <tr>\n",
       "      <th>var_4</th>\n",
       "      <td>var_4</td>\n",
       "      <td>0.003</td>\n",
       "    </tr>\n",
       "    <tr>\n",
       "      <th>var_5</th>\n",
       "      <td>var_5</td>\n",
       "      <td>-0.008</td>\n",
       "    </tr>\n",
       "    <tr>\n",
       "      <th>var_6</th>\n",
       "      <td>var_6</td>\n",
       "      <td>-0.002</td>\n",
       "    </tr>\n",
       "    <tr>\n",
       "      <th>var_8</th>\n",
       "      <td>var_8</td>\n",
       "      <td>0.005</td>\n",
       "    </tr>\n",
       "  </tbody>\n",
       "</table>\n",
       "</div>"
      ],
      "text/plain": [
       "        feature   corr\n",
       "feature               \n",
       "var_3     var_3 -0.002\n",
       "var_4     var_4  0.003\n",
       "var_5     var_5 -0.008\n",
       "var_6     var_6 -0.002\n",
       "var_8     var_8  0.005"
      ]
     },
     "execution_count": 44,
     "metadata": {},
     "output_type": "execute_result"
    }
   ],
   "source": [
    "df_correlations.index = df_correlations['feature']\n",
    "df_correlations.head()"
   ]
  },
  {
   "cell_type": "code",
   "execution_count": 45,
   "metadata": {},
   "outputs": [
    {
     "data": {
      "text/html": [
       "<div>\n",
       "<style scoped>\n",
       "    .dataframe tbody tr th:only-of-type {\n",
       "        vertical-align: middle;\n",
       "    }\n",
       "\n",
       "    .dataframe tbody tr th {\n",
       "        vertical-align: top;\n",
       "    }\n",
       "\n",
       "    .dataframe thead th {\n",
       "        text-align: right;\n",
       "    }\n",
       "</style>\n",
       "<table border=\"1\" class=\"dataframe\">\n",
       "  <thead>\n",
       "    <tr style=\"text-align: right;\">\n",
       "      <th></th>\n",
       "      <th>feature</th>\n",
       "      <th>corr</th>\n",
       "      <th>cluster</th>\n",
       "    </tr>\n",
       "  </thead>\n",
       "  <tbody>\n",
       "    <tr>\n",
       "      <th>var_38</th>\n",
       "      <td>var_38</td>\n",
       "      <td>0.015</td>\n",
       "      <td>0</td>\n",
       "    </tr>\n",
       "    <tr>\n",
       "      <th>var_17</th>\n",
       "      <td>var_17</td>\n",
       "      <td>0.008</td>\n",
       "      <td>0</td>\n",
       "    </tr>\n",
       "    <tr>\n",
       "      <th>var_58</th>\n",
       "      <td>var_58</td>\n",
       "      <td>0.008</td>\n",
       "      <td>0</td>\n",
       "    </tr>\n",
       "    <tr>\n",
       "      <th>var_30</th>\n",
       "      <td>var_30</td>\n",
       "      <td>0.005</td>\n",
       "      <td>0</td>\n",
       "    </tr>\n",
       "    <tr>\n",
       "      <th>var_185</th>\n",
       "      <td>var_185</td>\n",
       "      <td>0.004</td>\n",
       "      <td>0</td>\n",
       "    </tr>\n",
       "    <tr>\n",
       "      <th>var_157</th>\n",
       "      <td>var_157</td>\n",
       "      <td>0.003</td>\n",
       "      <td>0</td>\n",
       "    </tr>\n",
       "    <tr>\n",
       "      <th>var_173</th>\n",
       "      <td>var_173</td>\n",
       "      <td>0.001</td>\n",
       "      <td>0</td>\n",
       "    </tr>\n",
       "    <tr>\n",
       "      <th>var_110</th>\n",
       "      <td>var_110</td>\n",
       "      <td>-0.002</td>\n",
       "      <td>0</td>\n",
       "    </tr>\n",
       "    <tr>\n",
       "      <th>var_51</th>\n",
       "      <td>var_51</td>\n",
       "      <td>0.003</td>\n",
       "      <td>1</td>\n",
       "    </tr>\n",
       "    <tr>\n",
       "      <th>var_68</th>\n",
       "      <td>var_68</td>\n",
       "      <td>0.000</td>\n",
       "      <td>1</td>\n",
       "    </tr>\n",
       "    <tr>\n",
       "      <th>var_242</th>\n",
       "      <td>var_242</td>\n",
       "      <td>-0.002</td>\n",
       "      <td>1</td>\n",
       "    </tr>\n",
       "    <tr>\n",
       "      <th>var_154</th>\n",
       "      <td>var_154</td>\n",
       "      <td>-0.003</td>\n",
       "      <td>1</td>\n",
       "    </tr>\n",
       "    <tr>\n",
       "      <th>var_27</th>\n",
       "      <td>var_27</td>\n",
       "      <td>-0.004</td>\n",
       "      <td>1</td>\n",
       "    </tr>\n",
       "    <tr>\n",
       "      <th>var_77</th>\n",
       "      <td>var_77</td>\n",
       "      <td>0.012</td>\n",
       "      <td>2</td>\n",
       "    </tr>\n",
       "    <tr>\n",
       "      <th>var_39</th>\n",
       "      <td>var_39</td>\n",
       "      <td>0.006</td>\n",
       "      <td>2</td>\n",
       "    </tr>\n",
       "    <tr>\n",
       "      <th>var_240</th>\n",
       "      <td>var_240</td>\n",
       "      <td>0.005</td>\n",
       "      <td>2</td>\n",
       "    </tr>\n",
       "    <tr>\n",
       "      <th>var_159</th>\n",
       "      <td>var_159</td>\n",
       "      <td>0.004</td>\n",
       "      <td>2</td>\n",
       "    </tr>\n",
       "    <tr>\n",
       "      <th>var_22</th>\n",
       "      <td>var_22</td>\n",
       "      <td>0.003</td>\n",
       "      <td>2</td>\n",
       "    </tr>\n",
       "    <tr>\n",
       "      <th>var_78</th>\n",
       "      <td>var_78</td>\n",
       "      <td>0.001</td>\n",
       "      <td>2</td>\n",
       "    </tr>\n",
       "    <tr>\n",
       "      <th>var_124</th>\n",
       "      <td>var_124</td>\n",
       "      <td>0.000</td>\n",
       "      <td>2</td>\n",
       "    </tr>\n",
       "    <tr>\n",
       "      <th>var_265</th>\n",
       "      <td>var_265</td>\n",
       "      <td>-0.002</td>\n",
       "      <td>2</td>\n",
       "    </tr>\n",
       "    <tr>\n",
       "      <th>var_48</th>\n",
       "      <td>var_48</td>\n",
       "      <td>-0.003</td>\n",
       "      <td>2</td>\n",
       "    </tr>\n",
       "    <tr>\n",
       "      <th>var_90</th>\n",
       "      <td>var_90</td>\n",
       "      <td>-0.003</td>\n",
       "      <td>2</td>\n",
       "    </tr>\n",
       "    <tr>\n",
       "      <th>var_243</th>\n",
       "      <td>var_243</td>\n",
       "      <td>NaN</td>\n",
       "      <td>2</td>\n",
       "    </tr>\n",
       "    <tr>\n",
       "      <th>var_236</th>\n",
       "      <td>var_236</td>\n",
       "      <td>0.009</td>\n",
       "      <td>3</td>\n",
       "    </tr>\n",
       "  </tbody>\n",
       "</table>\n",
       "</div>"
      ],
      "text/plain": [
       "         feature   corr  cluster\n",
       "var_38    var_38  0.015        0\n",
       "var_17    var_17  0.008        0\n",
       "var_58    var_58  0.008        0\n",
       "var_30    var_30  0.005        0\n",
       "var_185  var_185  0.004        0\n",
       "var_157  var_157  0.003        0\n",
       "var_173  var_173  0.001        0\n",
       "var_110  var_110 -0.002        0\n",
       "var_51    var_51  0.003        1\n",
       "var_68    var_68  0.000        1\n",
       "var_242  var_242 -0.002        1\n",
       "var_154  var_154 -0.003        1\n",
       "var_27    var_27 -0.004        1\n",
       "var_77    var_77  0.012        2\n",
       "var_39    var_39  0.006        2\n",
       "var_240  var_240  0.005        2\n",
       "var_159  var_159  0.004        2\n",
       "var_22    var_22  0.003        2\n",
       "var_78    var_78  0.001        2\n",
       "var_124  var_124  0.000        2\n",
       "var_265  var_265 -0.002        2\n",
       "var_48    var_48 -0.003        2\n",
       "var_90    var_90 -0.003        2\n",
       "var_243  var_243    NaN        2\n",
       "var_236  var_236  0.009        3"
      ]
     },
     "execution_count": 45,
     "metadata": {},
     "output_type": "execute_result"
    }
   ],
   "source": [
    "df_clusters = pd.merge(df_correlations, df_transposed['cluster'], left_index=True, right_index=True).sort_values(by=['cluster', 'corr'], ascending=[True, False])\n",
    "df_clusters.head(25)"
   ]
  },
  {
   "cell_type": "code",
   "execution_count": 46,
   "metadata": {},
   "outputs": [
    {
     "data": {
      "text/html": [
       "<div>\n",
       "<style scoped>\n",
       "    .dataframe tbody tr th:only-of-type {\n",
       "        vertical-align: middle;\n",
       "    }\n",
       "\n",
       "    .dataframe tbody tr th {\n",
       "        vertical-align: top;\n",
       "    }\n",
       "\n",
       "    .dataframe thead th {\n",
       "        text-align: right;\n",
       "    }\n",
       "</style>\n",
       "<table border=\"1\" class=\"dataframe\">\n",
       "  <thead>\n",
       "    <tr style=\"text-align: right;\">\n",
       "      <th></th>\n",
       "      <th>feature</th>\n",
       "      <th>corr</th>\n",
       "      <th>cluster</th>\n",
       "      <th>features</th>\n",
       "      <th>importance</th>\n",
       "    </tr>\n",
       "  </thead>\n",
       "  <tbody>\n",
       "    <tr>\n",
       "      <th>var_110</th>\n",
       "      <td>var_110</td>\n",
       "      <td>-0.002</td>\n",
       "      <td>0</td>\n",
       "      <td>var_110</td>\n",
       "      <td>0.061340</td>\n",
       "    </tr>\n",
       "    <tr>\n",
       "      <th>var_58</th>\n",
       "      <td>var_58</td>\n",
       "      <td>0.008</td>\n",
       "      <td>0</td>\n",
       "      <td>var_58</td>\n",
       "      <td>0.022470</td>\n",
       "    </tr>\n",
       "    <tr>\n",
       "      <th>var_173</th>\n",
       "      <td>var_173</td>\n",
       "      <td>0.001</td>\n",
       "      <td>0</td>\n",
       "      <td>var_173</td>\n",
       "      <td>0.021860</td>\n",
       "    </tr>\n",
       "    <tr>\n",
       "      <th>var_185</th>\n",
       "      <td>var_185</td>\n",
       "      <td>0.004</td>\n",
       "      <td>0</td>\n",
       "      <td>var_185</td>\n",
       "      <td>0.017819</td>\n",
       "    </tr>\n",
       "    <tr>\n",
       "      <th>var_157</th>\n",
       "      <td>var_157</td>\n",
       "      <td>0.003</td>\n",
       "      <td>0</td>\n",
       "      <td>var_157</td>\n",
       "      <td>0.016129</td>\n",
       "    </tr>\n",
       "    <tr>\n",
       "      <th>var_17</th>\n",
       "      <td>var_17</td>\n",
       "      <td>0.008</td>\n",
       "      <td>0</td>\n",
       "      <td>var_17</td>\n",
       "      <td>0.011898</td>\n",
       "    </tr>\n",
       "    <tr>\n",
       "      <th>var_30</th>\n",
       "      <td>var_30</td>\n",
       "      <td>0.005</td>\n",
       "      <td>0</td>\n",
       "      <td>var_30</td>\n",
       "      <td>0.010675</td>\n",
       "    </tr>\n",
       "    <tr>\n",
       "      <th>var_38</th>\n",
       "      <td>var_38</td>\n",
       "      <td>0.015</td>\n",
       "      <td>0</td>\n",
       "      <td>var_38</td>\n",
       "      <td>0.000000</td>\n",
       "    </tr>\n",
       "    <tr>\n",
       "      <th>var_51</th>\n",
       "      <td>var_51</td>\n",
       "      <td>0.003</td>\n",
       "      <td>1</td>\n",
       "      <td>var_51</td>\n",
       "      <td>0.000000</td>\n",
       "    </tr>\n",
       "    <tr>\n",
       "      <th>var_68</th>\n",
       "      <td>var_68</td>\n",
       "      <td>0.000</td>\n",
       "      <td>1</td>\n",
       "      <td>var_68</td>\n",
       "      <td>0.000000</td>\n",
       "    </tr>\n",
       "    <tr>\n",
       "      <th>var_242</th>\n",
       "      <td>var_242</td>\n",
       "      <td>-0.002</td>\n",
       "      <td>1</td>\n",
       "      <td>var_242</td>\n",
       "      <td>0.000000</td>\n",
       "    </tr>\n",
       "    <tr>\n",
       "      <th>var_154</th>\n",
       "      <td>var_154</td>\n",
       "      <td>-0.003</td>\n",
       "      <td>1</td>\n",
       "      <td>var_154</td>\n",
       "      <td>0.000000</td>\n",
       "    </tr>\n",
       "    <tr>\n",
       "      <th>var_27</th>\n",
       "      <td>var_27</td>\n",
       "      <td>-0.004</td>\n",
       "      <td>1</td>\n",
       "      <td>var_27</td>\n",
       "      <td>0.000000</td>\n",
       "    </tr>\n",
       "    <tr>\n",
       "      <th>var_39</th>\n",
       "      <td>var_39</td>\n",
       "      <td>0.006</td>\n",
       "      <td>2</td>\n",
       "      <td>var_39</td>\n",
       "      <td>0.006834</td>\n",
       "    </tr>\n",
       "    <tr>\n",
       "      <th>var_77</th>\n",
       "      <td>var_77</td>\n",
       "      <td>0.012</td>\n",
       "      <td>2</td>\n",
       "      <td>var_77</td>\n",
       "      <td>0.003456</td>\n",
       "    </tr>\n",
       "    <tr>\n",
       "      <th>var_22</th>\n",
       "      <td>var_22</td>\n",
       "      <td>0.003</td>\n",
       "      <td>2</td>\n",
       "      <td>var_22</td>\n",
       "      <td>0.002927</td>\n",
       "    </tr>\n",
       "    <tr>\n",
       "      <th>var_240</th>\n",
       "      <td>var_240</td>\n",
       "      <td>0.005</td>\n",
       "      <td>2</td>\n",
       "      <td>var_240</td>\n",
       "      <td>0.002755</td>\n",
       "    </tr>\n",
       "    <tr>\n",
       "      <th>var_159</th>\n",
       "      <td>var_159</td>\n",
       "      <td>0.004</td>\n",
       "      <td>2</td>\n",
       "      <td>var_159</td>\n",
       "      <td>0.000000</td>\n",
       "    </tr>\n",
       "    <tr>\n",
       "      <th>var_78</th>\n",
       "      <td>var_78</td>\n",
       "      <td>0.001</td>\n",
       "      <td>2</td>\n",
       "      <td>var_78</td>\n",
       "      <td>0.000000</td>\n",
       "    </tr>\n",
       "    <tr>\n",
       "      <th>var_124</th>\n",
       "      <td>var_124</td>\n",
       "      <td>0.000</td>\n",
       "      <td>2</td>\n",
       "      <td>var_124</td>\n",
       "      <td>0.000000</td>\n",
       "    </tr>\n",
       "    <tr>\n",
       "      <th>var_265</th>\n",
       "      <td>var_265</td>\n",
       "      <td>-0.002</td>\n",
       "      <td>2</td>\n",
       "      <td>var_265</td>\n",
       "      <td>0.000000</td>\n",
       "    </tr>\n",
       "    <tr>\n",
       "      <th>var_48</th>\n",
       "      <td>var_48</td>\n",
       "      <td>-0.003</td>\n",
       "      <td>2</td>\n",
       "      <td>var_48</td>\n",
       "      <td>0.000000</td>\n",
       "    </tr>\n",
       "    <tr>\n",
       "      <th>var_90</th>\n",
       "      <td>var_90</td>\n",
       "      <td>-0.003</td>\n",
       "      <td>2</td>\n",
       "      <td>var_90</td>\n",
       "      <td>0.000000</td>\n",
       "    </tr>\n",
       "    <tr>\n",
       "      <th>var_243</th>\n",
       "      <td>var_243</td>\n",
       "      <td>NaN</td>\n",
       "      <td>2</td>\n",
       "      <td>var_243</td>\n",
       "      <td>0.000000</td>\n",
       "    </tr>\n",
       "    <tr>\n",
       "      <th>var_236</th>\n",
       "      <td>var_236</td>\n",
       "      <td>0.009</td>\n",
       "      <td>3</td>\n",
       "      <td>var_236</td>\n",
       "      <td>0.000000</td>\n",
       "    </tr>\n",
       "  </tbody>\n",
       "</table>\n",
       "</div>"
      ],
      "text/plain": [
       "         feature   corr  cluster features  importance\n",
       "var_110  var_110 -0.002        0  var_110    0.061340\n",
       "var_58    var_58  0.008        0   var_58    0.022470\n",
       "var_173  var_173  0.001        0  var_173    0.021860\n",
       "var_185  var_185  0.004        0  var_185    0.017819\n",
       "var_157  var_157  0.003        0  var_157    0.016129\n",
       "var_17    var_17  0.008        0   var_17    0.011898\n",
       "var_30    var_30  0.005        0   var_30    0.010675\n",
       "var_38    var_38  0.015        0   var_38    0.000000\n",
       "var_51    var_51  0.003        1   var_51    0.000000\n",
       "var_68    var_68  0.000        1   var_68    0.000000\n",
       "var_242  var_242 -0.002        1  var_242    0.000000\n",
       "var_154  var_154 -0.003        1  var_154    0.000000\n",
       "var_27    var_27 -0.004        1   var_27    0.000000\n",
       "var_39    var_39  0.006        2   var_39    0.006834\n",
       "var_77    var_77  0.012        2   var_77    0.003456\n",
       "var_22    var_22  0.003        2   var_22    0.002927\n",
       "var_240  var_240  0.005        2  var_240    0.002755\n",
       "var_159  var_159  0.004        2  var_159    0.000000\n",
       "var_78    var_78  0.001        2   var_78    0.000000\n",
       "var_124  var_124  0.000        2  var_124    0.000000\n",
       "var_265  var_265 -0.002        2  var_265    0.000000\n",
       "var_48    var_48 -0.003        2   var_48    0.000000\n",
       "var_90    var_90 -0.003        2   var_90    0.000000\n",
       "var_243  var_243    NaN        2  var_243    0.000000\n",
       "var_236  var_236  0.009        3  var_236    0.000000"
      ]
     },
     "execution_count": 46,
     "metadata": {},
     "output_type": "execute_result"
    }
   ],
   "source": [
    "df_clusters = pd.merge(df_clusters, df_feature_importances, left_index=True, right_index=True).sort_values(by=['cluster', 'importance'], ascending=[True, False])\n",
    "df_clusters.head(25)"
   ]
  },
  {
   "cell_type": "code",
   "execution_count": 104,
   "metadata": {},
   "outputs": [],
   "source": [
    "final_features = df_clusters.groupby(['cluster'])['importance'].idxmax().tolist()\n",
    "final_features = df_clusters[(df_clusters['feature'].isin(final_features)) & (df_clusters['importance']>0.015)]['importance'].index.tolist()"
   ]
  },
  {
   "cell_type": "code",
   "execution_count": 105,
   "metadata": {},
   "outputs": [
    {
     "data": {
      "text/html": [
       "<div>\n",
       "<style scoped>\n",
       "    .dataframe tbody tr th:only-of-type {\n",
       "        vertical-align: middle;\n",
       "    }\n",
       "\n",
       "    .dataframe tbody tr th {\n",
       "        vertical-align: top;\n",
       "    }\n",
       "\n",
       "    .dataframe thead th {\n",
       "        text-align: right;\n",
       "    }\n",
       "</style>\n",
       "<table border=\"1\" class=\"dataframe\">\n",
       "  <thead>\n",
       "    <tr style=\"text-align: right;\">\n",
       "      <th></th>\n",
       "      <th>feature</th>\n",
       "      <th>corr</th>\n",
       "      <th>cluster</th>\n",
       "      <th>features</th>\n",
       "      <th>importance</th>\n",
       "    </tr>\n",
       "  </thead>\n",
       "  <tbody>\n",
       "    <tr>\n",
       "      <th>var_110</th>\n",
       "      <td>var_110</td>\n",
       "      <td>-0.002</td>\n",
       "      <td>0</td>\n",
       "      <td>var_110</td>\n",
       "      <td>0.061340</td>\n",
       "    </tr>\n",
       "    <tr>\n",
       "      <th>var_83</th>\n",
       "      <td>var_83</td>\n",
       "      <td>-0.003</td>\n",
       "      <td>4</td>\n",
       "      <td>var_83</td>\n",
       "      <td>0.019760</td>\n",
       "    </tr>\n",
       "    <tr>\n",
       "      <th>var_131</th>\n",
       "      <td>var_131</td>\n",
       "      <td>-0.001</td>\n",
       "      <td>6</td>\n",
       "      <td>var_131</td>\n",
       "      <td>0.017703</td>\n",
       "    </tr>\n",
       "    <tr>\n",
       "      <th>var_205</th>\n",
       "      <td>var_205</td>\n",
       "      <td>-0.002</td>\n",
       "      <td>9</td>\n",
       "      <td>var_205</td>\n",
       "      <td>0.036128</td>\n",
       "    </tr>\n",
       "    <tr>\n",
       "      <th>var_70</th>\n",
       "      <td>var_70</td>\n",
       "      <td>0.007</td>\n",
       "      <td>10</td>\n",
       "      <td>var_70</td>\n",
       "      <td>0.017722</td>\n",
       "    </tr>\n",
       "    <tr>\n",
       "      <th>var_49</th>\n",
       "      <td>var_49</td>\n",
       "      <td>0.004</td>\n",
       "      <td>12</td>\n",
       "      <td>var_49</td>\n",
       "      <td>0.025767</td>\n",
       "    </tr>\n",
       "    <tr>\n",
       "      <th>var_231</th>\n",
       "      <td>var_231</td>\n",
       "      <td>-0.000</td>\n",
       "      <td>13</td>\n",
       "      <td>var_231</td>\n",
       "      <td>0.020905</td>\n",
       "    </tr>\n",
       "    <tr>\n",
       "      <th>var_35</th>\n",
       "      <td>var_35</td>\n",
       "      <td>0.007</td>\n",
       "      <td>14</td>\n",
       "      <td>var_35</td>\n",
       "      <td>0.098296</td>\n",
       "    </tr>\n",
       "  </tbody>\n",
       "</table>\n",
       "</div>"
      ],
      "text/plain": [
       "         feature   corr  cluster features  importance\n",
       "var_110  var_110 -0.002        0  var_110    0.061340\n",
       "var_83    var_83 -0.003        4   var_83    0.019760\n",
       "var_131  var_131 -0.001        6  var_131    0.017703\n",
       "var_205  var_205 -0.002        9  var_205    0.036128\n",
       "var_70    var_70  0.007       10   var_70    0.017722\n",
       "var_49    var_49  0.004       12   var_49    0.025767\n",
       "var_231  var_231 -0.000       13  var_231    0.020905\n",
       "var_35    var_35  0.007       14   var_35    0.098296"
      ]
     },
     "execution_count": 105,
     "metadata": {},
     "output_type": "execute_result"
    }
   ],
   "source": [
    "df_clusters[(df_clusters['feature'].isin(final_features))]"
   ]
  },
  {
   "cell_type": "code",
   "execution_count": 106,
   "metadata": {},
   "outputs": [
    {
     "data": {
      "text/plain": [
       "(array([0.5, 1.5, 2.5, 3.5, 4.5, 5.5, 6.5, 7.5]),\n",
       " [Text(0, 0.5, 'var_110'),\n",
       "  Text(0, 1.5, 'var_83'),\n",
       "  Text(0, 2.5, 'var_131'),\n",
       "  Text(0, 3.5, 'var_205'),\n",
       "  Text(0, 4.5, 'var_70'),\n",
       "  Text(0, 5.5, 'var_49'),\n",
       "  Text(0, 6.5, 'var_231'),\n",
       "  Text(0, 7.5, 'var_35')])"
      ]
     },
     "execution_count": 106,
     "metadata": {},
     "output_type": "execute_result"
    },
    {
     "data": {
      "image/png": "[encoded data removed]",
      "text/plain": [
       "<Figure size 800x700 with 2 Axes>"
      ]
     },
     "metadata": {},
     "output_type": "display_data"
    }
   ],
   "source": [
    "import seaborn as sns \n",
    "\n",
    "# Plot correlations for features in cluster 2 and 3\n",
    "corr = X_train_scaled[final_features].corr()\n",
    "\n",
    "# plot correlation matrix\n",
    "plt.figure(figsize=(8, 7))\n",
    "sns.heatmap(corr, \n",
    "            annot=True, \n",
    "            cmap='coolwarm', \n",
    "            linewidths=0.5, \n",
    "            fmt=\".1f\",\n",
    "            annot_kws={\"size\": 7},\n",
    "            vmin=-1, vmax=1)\n",
    "plt.title('Final Features')\n",
    "plt.xticks(size=7)\n",
    "plt.yticks(size=7)\n",
    "\n",
    "# change size of colorbar labels\n",
    "cbar = plt.gcf().axes[-1]\n",
    "cbar.tick_params(labelsize=7)\n",
    "plt.xticks(size=7)\n",
    "plt.yticks(size=7)"
   ]
  },
  {
   "cell_type": "code",
   "execution_count": 89,
   "metadata": {},
   "outputs": [],
   "source": [
    "cluster_0 = df_clusters[df_clusters['cluster'] == 0]['feature'].tolist() \n",
    "cluster_1 = df_clusters[df_clusters['cluster'] == 1]['feature'].tolist() "
   ]
  },
  {
   "cell_type": "code",
   "execution_count": 91,
   "metadata": {},
   "outputs": [
    {
     "data": {
      "text/plain": [
       "(array([ 0.5,  1.5,  2.5,  3.5,  4.5,  5.5,  6.5,  7.5,  8.5,  9.5, 10.5,\n",
       "        11.5, 12.5]),\n",
       " [Text(0, 0.5, 'var_110'),\n",
       "  Text(0, 1.5, 'var_58'),\n",
       "  Text(0, 2.5, 'var_173'),\n",
       "  Text(0, 3.5, 'var_185'),\n",
       "  Text(0, 4.5, 'var_157'),\n",
       "  Text(0, 5.5, 'var_17'),\n",
       "  Text(0, 6.5, 'var_30'),\n",
       "  Text(0, 7.5, 'var_38'),\n",
       "  Text(0, 8.5, 'var_51'),\n",
       "  Text(0, 9.5, 'var_68'),\n",
       "  Text(0, 10.5, 'var_242'),\n",
       "  Text(0, 11.5, 'var_154'),\n",
       "  Text(0, 12.5, 'var_27')])"
      ]
     },
     "execution_count": 91,
     "metadata": {},
     "output_type": "execute_result"
    },
    {
     "data": {
      "image/png": "[encoded data removed]",
      "text/plain": [
       "<Figure size 800x700 with 2 Axes>"
      ]
     },
     "metadata": {},
     "output_type": "display_data"
    }
   ],
   "source": [
    "import seaborn as sns \n",
    "\n",
    "\n",
    "# Plot correlations for features in cluster 2 and 3\n",
    "corr = X_train_scaled[np.append(cluster_0,cluster_1)].corr()\n",
    "\n",
    "# plot correlation matrix\n",
    "plt.figure(figsize=(8, 7))\n",
    "sns.heatmap(corr, \n",
    "            annot=True, \n",
    "            cmap='coolwarm', \n",
    "            linewidths=0.5, \n",
    "            fmt=\".1f\",\n",
    "            annot_kws={\"size\": 7},\n",
    "            vmin=-1, vmax=1)\n",
    "plt.title('Cluster 0 and 1')\n",
    "plt.xticks(size=7)\n",
    "plt.yticks(size=7)\n",
    "\n",
    "# change size of colorbar labels\n",
    "cbar = plt.gcf().axes[-1]\n",
    "cbar.tick_params(labelsize=7)\n",
    "plt.xticks(size=7)\n",
    "plt.yticks(size=7)"
   ]
  },
  {
   "cell_type": "code",
   "execution_count": 163,
   "metadata": {},
   "outputs": [
    {
     "data": {
      "text/html": [
       "<style>#sk-container-id-24 {color: black;}#sk-container-id-24 pre{padding: 0;}#sk-container-id-24 div.sk-toggleable {background-color: white;}#sk-container-id-24 label.sk-toggleable__label {cursor: pointer;display: block;width: 100%;margin-bottom: 0;padding: 0.3em;box-sizing: border-box;text-align: center;}#sk-container-id-24 label.sk-toggleable__label-arrow:before {content: \"▸\";float: left;margin-right: 0.25em;color: #696969;}#sk-container-id-24 label.sk-toggleable__label-arrow:hover:before {color: black;}#sk-container-id-24 div.sk-estimator:hover label.sk-toggleable__label-arrow:before {color: black;}#sk-container-id-24 div.sk-toggleable__content {max-height: 0;max-width: 0;overflow: hidden;text-align: left;background-color: #f0f8ff;}#sk-container-id-24 div.sk-toggleable__content pre {margin: 0.2em;color: black;border-radius: 0.25em;background-color: #f0f8ff;}#sk-container-id-24 input.sk-toggleable__control:checked~div.sk-toggleable__content {max-height: 200px;max-width: 100%;overflow: auto;}#sk-container-id-24 input.sk-toggleable__control:checked~label.sk-toggleable__label-arrow:before {content: \"▾\";}#sk-container-id-24 div.sk-estimator input.sk-toggleable__control:checked~label.sk-toggleable__label {background-color: #d4ebff;}#sk-container-id-24 div.sk-label input.sk-toggleable__control:checked~label.sk-toggleable__label {background-color: #d4ebff;}#sk-container-id-24 input.sk-hidden--visually {border: 0;clip: rect(1px 1px 1px 1px);clip: rect(1px, 1px, 1px, 1px);height: 1px;margin: -1px;overflow: hidden;padding: 0;position: absolute;width: 1px;}#sk-container-id-24 div.sk-estimator {font-family: monospace;background-color: #f0f8ff;border: 1px dotted black;border-radius: 0.25em;box-sizing: border-box;margin-bottom: 0.5em;}#sk-container-id-24 div.sk-estimator:hover {background-color: #d4ebff;}#sk-container-id-24 div.sk-parallel-item::after {content: \"\";width: 100%;border-bottom: 1px solid gray;flex-grow: 1;}#sk-container-id-24 div.sk-label:hover label.sk-toggleable__label {background-color: #d4ebff;}#sk-container-id-24 div.sk-serial::before {content: \"\";position: absolute;border-left: 1px solid gray;box-sizing: border-box;top: 0;bottom: 0;left: 50%;z-index: 0;}#sk-container-id-24 div.sk-serial {display: flex;flex-direction: column;align-items: center;background-color: white;padding-right: 0.2em;padding-left: 0.2em;position: relative;}#sk-container-id-24 div.sk-item {position: relative;z-index: 1;}#sk-container-id-24 div.sk-parallel {display: flex;align-items: stretch;justify-content: center;background-color: white;position: relative;}#sk-container-id-24 div.sk-item::before, #sk-container-id-24 div.sk-parallel-item::before {content: \"\";position: absolute;border-left: 1px solid gray;box-sizing: border-box;top: 0;bottom: 0;left: 50%;z-index: -1;}#sk-container-id-24 div.sk-parallel-item {display: flex;flex-direction: column;z-index: 1;position: relative;background-color: white;}#sk-container-id-24 div.sk-parallel-item:first-child::after {align-self: flex-end;width: 50%;}#sk-container-id-24 div.sk-parallel-item:last-child::after {align-self: flex-start;width: 50%;}#sk-container-id-24 div.sk-parallel-item:only-child::after {width: 0;}#sk-container-id-24 div.sk-dashed-wrapped {border: 1px dashed gray;margin: 0 0.4em 0.5em 0.4em;box-sizing: border-box;padding-bottom: 0.4em;background-color: white;}#sk-container-id-24 div.sk-label label {font-family: monospace;font-weight: bold;display: inline-block;line-height: 1.2em;}#sk-container-id-24 div.sk-label-container {text-align: center;}#sk-container-id-24 div.sk-container {/* jupyter's `normalize.less` sets `[hidden] { display: none; }` but bootstrap.min.css set `[hidden] { display: none !important; }` so we also need the `!important` here to be able to override the default hidden behavior on the sphinx rendered scikit-learn.org. See: https://github.com/scikit-learn/scikit-learn/issues/21755 */display: inline-block !important;position: relative;}#sk-container-id-24 div.sk-text-repr-fallback {display: none;}</style><div id=\"sk-container-id-24\" class=\"sk-top-container\"><div class=\"sk-text-repr-fallback\"><pre>XGBClassifier(base_score=None, booster=None, callbacks=None,\n",
       "              colsample_bylevel=None, colsample_bynode=None,\n",
       "              colsample_bytree=None, early_stopping_rounds=None,\n",
       "              enable_categorical=False, eval_metric=None, feature_types=None,\n",
       "              gamma=None, gpu_id=None, grow_policy=None, importance_type=None,\n",
       "              interaction_constraints=None, learning_rate=0.01, max_bin=None,\n",
       "              max_cat_threshold=None, max_cat_to_onehot=None,\n",
       "              max_delta_step=None, max_depth=12, max_leaves=None,\n",
       "              min_child_weight=None, missing=nan, monotone_constraints=None,\n",
       "              n_estimators=80, n_jobs=-1, num_parallel_tree=None,\n",
       "              predictor=None, random_state=42, ...)</pre><b>In a Jupyter environment, please rerun this cell to show the HTML representation or trust the notebook. <br />On GitHub, the HTML representation is unable to render, please try loading this page with nbviewer.org.</b></div><div class=\"sk-container\" hidden><div class=\"sk-item\"><div class=\"sk-estimator sk-toggleable\"><input class=\"sk-toggleable__control sk-hidden--visually\" id=\"sk-estimator-id-24\" type=\"checkbox\" checked><label for=\"sk-estimator-id-24\" class=\"sk-toggleable__label sk-toggleable__label-arrow\">XGBClassifier</label><div class=\"sk-toggleable__content\"><pre>XGBClassifier(base_score=None, booster=None, callbacks=None,\n",
       "              colsample_bylevel=None, colsample_bynode=None,\n",
       "              colsample_bytree=None, early_stopping_rounds=None,\n",
       "              enable_categorical=False, eval_metric=None, feature_types=None,\n",
       "              gamma=None, gpu_id=None, grow_policy=None, importance_type=None,\n",
       "              interaction_constraints=None, learning_rate=0.01, max_bin=None,\n",
       "              max_cat_threshold=None, max_cat_to_onehot=None,\n",
       "              max_delta_step=None, max_depth=12, max_leaves=None,\n",
       "              min_child_weight=None, missing=nan, monotone_constraints=None,\n",
       "              n_estimators=80, n_jobs=-1, num_parallel_tree=None,\n",
       "              predictor=None, random_state=42, ...)</pre></div></div></div></div></div>"
      ],
      "text/plain": [
       "XGBClassifier(base_score=None, booster=None, callbacks=None,\n",
       "              colsample_bylevel=None, colsample_bynode=None,\n",
       "              colsample_bytree=None, early_stopping_rounds=None,\n",
       "              enable_categorical=False, eval_metric=None, feature_types=None,\n",
       "              gamma=None, gpu_id=None, grow_policy=None, importance_type=None,\n",
       "              interaction_constraints=None, learning_rate=0.01, max_bin=None,\n",
       "              max_cat_threshold=None, max_cat_to_onehot=None,\n",
       "              max_delta_step=None, max_depth=12, max_leaves=None,\n",
       "              min_child_weight=None, missing=nan, monotone_constraints=None,\n",
       "              n_estimators=80, n_jobs=-1, num_parallel_tree=None,\n",
       "              predictor=None, random_state=42, ...)"
      ]
     },
     "execution_count": 163,
     "metadata": {},
     "output_type": "execute_result"
    }
   ],
   "source": [
    "model_xgb = XGBClassifier(n_estimators=80, learning_rate=0.01,\n",
    "                          max_depth=12, n_jobs=-1, random_state=42)\n",
    "model_xgb.fit(X_train[final_features], y_train)"
   ]
  },
  {
   "cell_type": "code",
   "execution_count": 164,
   "metadata": {},
   "outputs": [
    {
     "data": {
      "text/plain": [
       "0.8426788606836755"
      ]
     },
     "execution_count": 164,
     "metadata": {},
     "output_type": "execute_result"
    }
   ],
   "source": [
    "y_preds = model_xgb.predict_proba(X_train[final_features])[:,1]\n",
    "metrics.roc_auc_score(y_train, y_preds)"
   ]
  },
  {
   "cell_type": "code",
   "execution_count": 165,
   "metadata": {},
   "outputs": [
    {
     "data": {
      "text/plain": [
       "0.812424244993232"
      ]
     },
     "execution_count": 165,
     "metadata": {},
     "output_type": "execute_result"
    }
   ],
   "source": [
    "y_preds = model_xgb.predict_proba(X_test[final_features])[:,1]\n",
    "metrics.roc_auc_score(y_test, y_preds)"
   ]
  },
  {
   "cell_type": "code",
   "execution_count": 166,
   "metadata": {},
   "outputs": [
    {
     "data": {
      "text/plain": [
       "8"
      ]
     },
     "execution_count": 166,
     "metadata": {},
     "output_type": "execute_result"
    }
   ],
   "source": [
    "len(final_features)"
   ]
  },
  {
   "cell_type": "code",
   "execution_count": 111,
   "metadata": {},
   "outputs": [
    {
     "data": {
      "image/png": "[encoded data removed]",
      "text/plain": [
       "<Figure size 640x480 with 1 Axes>"
      ]
     },
     "metadata": {},
     "output_type": "display_data"
    }
   ],
   "source": [
    "df_feature_importances = pd.DataFrame({'features':final_features, 'importance':model_xgb.feature_importances_}).sort_values(by='importance')\n",
    "plt.barh(y=df_feature_importances.features ,width=df_feature_importances.importance);"
   ]
  },
  {
   "cell_type": "code",
   "execution_count": 275,
   "metadata": {},
   "outputs": [
    {
     "data": {
      "text/plain": [
       "['var_110',\n",
       " 'var_51',\n",
       " 'var_240',\n",
       " 'var_236',\n",
       " 'var_83',\n",
       " 'var_42',\n",
       " 'var_276',\n",
       " 'var_188',\n",
       " 'var_128',\n",
       " 'var_85',\n",
       " 'var_70',\n",
       " 'var_204',\n",
       " 'var_49',\n",
       " 'var_21',\n",
       " 'var_35']"
      ]
     },
     "execution_count": 275,
     "metadata": {},
     "output_type": "execute_result"
    }
   ],
   "source": [
    "features"
   ]
  },
  {
   "cell_type": "code",
   "execution_count": 297,
   "metadata": {},
   "outputs": [],
   "source": [
    "# Create a feature dataframe that includes the following columns:\n",
    "# 1. Index = feature name\n",
    "# 2. feature = feature name\n",
    "# 3. cluster_Hierarchical = cluster based on hierachical clustering\n",
    "# 4. cluster_kMeans\n",
    "# 5. importance = feature importance from XGBoost using all features\n",
    "# 5. corr = correlation with target variable\n",
    "# 6. annova = annova metric (univariate statistical measure between each of the variables and the target)\n",
    "\n",
    "from sklearn.cluster import KMeans \n",
    "from sklearn.preprocessing import StandardScaler\n",
    "from sklearn.feature_selection import f_classif\n",
    "from sklearn import metrics\n",
    "from xgboost import XGBClassifier\n",
    "\n",
    "def create_feature_df(X, y, n_clusters):\n",
    "\n",
    "    # find correlations between features and target variable\n",
    "    correlations = []\n",
    "    for col in X.columns:\n",
    "        corr = y.corr(X[col])\n",
    "        corr = round(corr, 3)\n",
    "        correlations.append(corr)\n",
    "\n",
    "    df_features = pd.DataFrame({'feature' : X.columns, 'corr' : correlations})\n",
    "    df_features.index = df_features['feature']\n",
    "\n",
    "\n",
    "    # find cluster for each feature \n",
    "    kmeans = KMeans(n_clusters=n_clusters, random_state=42)\n",
    "    scaler = StandardScaler()\n",
    "    X_scaled = scaler.fit_transform(X)\n",
    "    X_scaled = pd.DataFrame(X_scaled,columns=X.columns)\n",
    "    df_transposed = X_scaled.T\n",
    "    cluster_labels = kmeans.fit_predict(df_transposed)\n",
    "    df_transposed['cluster_kMeans'] = cluster_labels\n",
    "    df_features = pd.merge(df_features, df_transposed['cluster_kMeans'], left_index=True, right_index=True).sort_values(by=['cluster_kMeans', 'corr'], ascending=[True, False])\n",
    "\n",
    "\n",
    "    # get feature importance from XGBoost based on all features\n",
    "    model = XGBClassifier(n_jobs=-1, random_state=42)\n",
    "    model.fit(X, y)\n",
    "    df_importances = pd.DataFrame({'feature' : X.columns, 'importance' : model.feature_importances_})\n",
    "    df_importances.index = df_importances['feature']\n",
    "    df_features = pd.merge(df_features, df_importances, left_index=True, right_index=True)\n",
    "    df_features.rename(columns={'feature_x': 'feature'}, inplace=True)\n",
    "    df_features = df_features.drop(columns='feature_y', axis=1)\n",
    "\n",
    "\n",
    "    # get annova metric (p-value)\n",
    "    univariate = f_classif(X, y)\n",
    "    df_annova = pd.DataFrame({'feature' : X.columns, 'uni_pvalue' : univariate[1]})\n",
    "    df_annova.index = df_annova['feature']\n",
    "    df_features = pd.merge(df_features, df_annova, left_index=True, right_index=True)\n",
    "    df_features.rename(columns={'feature_x': 'feature'}, inplace=True)\n",
    "    df_features = df_features.drop(columns='feature_y', axis=1)\n",
    "\n",
    "    return df_features\n",
    "\n",
    "\n",
    "def roc(features):\n",
    "    model = XGBClassifier(n_estimators=80, learning_rate=0.01,\n",
    "                          max_depth=12, n_jobs=-1, random_state=42)\n",
    "    model.fit(X_train[features], y_train)\n",
    "    y_preds = model.predict_proba(X_test[features])[:,1]\n",
    "    print(f\"roc auc (test): {metrics.roc_auc_score(y_test, y_preds):.2%}\")\n",
    "\n",
    "\n",
    "def feature_importance_plot(df_features, features):\n",
    "    df_features.sort_values(by='importance', inplace=True)\n",
    "    plt.barh(y=df_features[df_features['feature'].isin(features)]['feature'], width=df_features[df_features['feature'].isin(features)]['importance']);\n",
    "\n",
    "\n",
    "def xcorr_matrix(features):\n",
    "    # Plot correlations for features in cluster 2 and 3\n",
    "    corr = X_train[features].corr()\n",
    "\n",
    "    # plot correlation matrix\n",
    "    plt.figure(figsize=(8, 7))\n",
    "    sns.heatmap(corr, \n",
    "                annot=True, \n",
    "                cmap='coolwarm', \n",
    "                linewidths=0.5, \n",
    "                fmt=\".1f\",\n",
    "                annot_kws={\"size\": 7},\n",
    "                vmin=-1, vmax=1)\n",
    "    plt.title('Cross Correlation')\n",
    "    plt.xticks(size=7)\n",
    "    plt.yticks(size=7)\n",
    "\n",
    "    # change size of colorbar labels\n",
    "    cbar = plt.gcf().axes[-1]\n",
    "    cbar.tick_params(labelsize=7)\n",
    "    plt.xticks(size=7)\n",
    "    plt.yticks(size=7)\n",
    "    "
   ]
  },
  {
   "cell_type": "code",
   "execution_count": 273,
   "metadata": {},
   "outputs": [
    {
     "name": "stderr",
     "output_type": "stream",
     "text": [
      "/Users/oliverdreger/opt/anaconda3/envs/ml2023/lib/python3.11/site-packages/sklearn/cluster/_kmeans.py:1412: FutureWarning: The default value of `n_init` will change from 10 to 'auto' in 1.4. Set the value of `n_init` explicitly to suppress the warning\n",
      "  super()._check_params_vs_input(X, default_n_init=10)\n"
     ]
    }
   ],
   "source": [
    "omd = create_feature_df(X=X_train, y=y_train, n_clusters=15)"
   ]
  },
  {
   "cell_type": "code",
   "execution_count": 289,
   "metadata": {},
   "outputs": [
    {
     "name": "stdout",
     "output_type": "stream",
     "text": [
      "roc auc (test): 81.38%\n"
     ]
    }
   ],
   "source": [
    "# univariate -> annova\n",
    "omd_uni = omd.sort_values(by=['cluster_kMeans', 'uni_pvalue'], ascending=[True, True])\n",
    "features = omd_uni.groupby('cluster_kMeans')['uni_pvalue'].idxmin().tolist()\n",
    "roc(features)"
   ]
  },
  {
   "cell_type": "code",
   "execution_count": 290,
   "metadata": {},
   "outputs": [
    {
     "name": "stdout",
     "output_type": "stream",
     "text": [
      "roc auc (test): 81.06%\n"
     ]
    }
   ],
   "source": [
    "# feature importance\n",
    "omd_features = omd.sort_values(by=['cluster_kMeans', 'importance'], ascending=[True, False])\n",
    "omd_features = omd_features[omd_features['importance']>0.018]\n",
    "features = omd_features.groupby('cluster_kMeans')['importance'].idxmax().tolist()\n",
    "roc(features)"
   ]
  },
  {
   "cell_type": "code",
   "execution_count": 298,
   "metadata": {},
   "outputs": [
    {
     "data": {
      "image/png": "[encoded data removed]",
      "text/plain": [
       "<Figure size 800x550 with 1 Axes>"
      ]
     },
     "metadata": {},
     "output_type": "display_data"
    }
   ],
   "source": [
    "feature_importance_plot(omd_features, features)"
   ]
  },
  {
   "cell_type": "code",
   "execution_count": 296,
   "metadata": {},
   "outputs": [
    {
     "data": {
      "image/png": "[encoded data removed]",
      "text/plain": [
       "<Figure size 800x700 with 2 Axes>"
      ]
     },
     "metadata": {},
     "output_type": "display_data"
    }
   ],
   "source": [
    "xcorr_matrix(features)"
   ]
  },
  {
   "cell_type": "code",
   "execution_count": null,
   "metadata": {},
   "outputs": [],
   "source": []
  }
 ],
 "metadata": {
  "kernelspec": {
   "display_name": "ml2023",
   "language": "python",
   "name": "python3"
  },
  "language_info": {
   "codemirror_mode": {
    "name": "ipython",
    "version": 3
   },
   "file_extension": ".py",
   "mimetype": "text/x-python",
   "name": "python",
   "nbconvert_exporter": "python",
   "pygments_lexer": "ipython3",
   "version": "3.11.0"
  },
  "toc": {
   "base_numbering": 1,
   "nav_menu": {},
   "number_sections": true,
   "sideBar": true,
   "skip_h1_title": false,
   "title_cell": "Table of Contents",
   "title_sidebar": "Contents",
   "toc_cell": false,
   "toc_position": {},
   "toc_section_display": "block",
   "toc_window_display": true
  }
 },
 "nbformat": 4,
 "nbformat_minor": 2
}
